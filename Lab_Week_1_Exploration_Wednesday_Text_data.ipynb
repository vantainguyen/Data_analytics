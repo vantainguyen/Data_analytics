{
  "cells": [
    {
      "cell_type": "markdown",
      "metadata": {
        "id": "view-in-github",
        "colab_type": "text"
      },
      "source": [
        "<a href=\"https://colab.research.google.com/github/vantainguyen/Data_analytics/blob/main/Lab_Week_1_Exploration_Wednesday_Text_data.ipynb\" target=\"_parent\"><img src=\"https://colab.research.google.com/assets/colab-badge.svg\" alt=\"Open In Colab\"/></a>"
      ]
    },
    {
      "cell_type": "markdown",
      "metadata": {
        "id": "l7CCueisMjzi"
      },
      "source": [
        "# Welcome to Lab 1.2\n",
        "## Data Exploration of Text Data"
      ]
    },
    {
      "cell_type": "markdown",
      "metadata": {
        "id": "UwSCoTuA7wnB"
      },
      "source": [
        "The dataset describes railroad incidents in the USA for 2019 - data source: https://safetydata.fra.dot.gov/OfficeofSafety/publicsite/on_the_fly_download.aspx\n",
        "\n",
        "Those incidents are of different nature - they describe derailment, whether a train got struck, and other incidents that caused damages and potential hazardous materials to be released. Because we are only interested in the incident text, we deleted most columns in the dataset and only left Railroad, State, Station, County and Narrative (incident text)."
      ]
    },
    {
      "cell_type": "markdown",
      "metadata": {
        "id": "JDrZCTksMjzt"
      },
      "source": [
        "Let's load all the required packages to run the script"
      ]
    },
    {
      "cell_type": "code",
      "execution_count": 47,
      "metadata": {
        "id": "9nCtweGY7wnH"
      },
      "outputs": [],
      "source": [
        "import pandas as pd\n",
        "import warnings\n",
        "import matplotlib.pyplot as plt\n",
        "warnings.filterwarnings('ignore')"
      ]
    },
    {
      "cell_type": "markdown",
      "metadata": {
        "id": "vWB_O-qX7wnP"
      },
      "source": [
        "#### Reading in the Data using Pandas\n",
        "\n",
        "Pandas is a Python library for data manipulation and analysis. In particular, it offers data structures and operations for manipulating numerical tables and time series."
      ]
    },
    {
      "cell_type": "markdown",
      "metadata": {
        "id": "u-UvEmtd_3jW"
      },
      "source": [
        "## Reading in the Data in Google Colab\n",
        "Under Colab logo on the top-left, click on 'files' (folder icon). Right-click on the subfolder named 'content' and upload your CSV file. You'll be repeating this step every time your Colab needs to reconnect to a server."
      ]
    },
    {
      "cell_type": "code",
      "execution_count": 51,
      "metadata": {
        "id": "yzGOF6ET7wnQ"
      },
      "outputs": [],
      "source": [
        "raw_data_df_ = pd.read_csv(\"rail_incident_data_USA.csv\")"
      ]
    },
    {
      "cell_type": "code",
      "execution_count": 52,
      "metadata": {
        "colab": {
          "base_uri": "https://localhost:8080/",
          "height": 143
        },
        "id": "7pWWSzcqIwBr",
        "outputId": "ab965639-cf9e-4280-9fb3-f756e0306f2b"
      },
      "outputs": [
        {
          "output_type": "execute_result",
          "data": {
            "text/plain": [
              "        count       mean        std   min   25%   50%   75%   max\n",
              "IYR    2685.0  19.000000   0.000000  19.0  19.0  19.0  19.0  19.0\n",
              "IMO    2685.0   6.320298   3.468001   1.0   3.0   6.0   9.0  12.0\n",
              "STATE  2685.0  28.357169  15.457654   1.0  17.0  28.0  42.0  56.0"
            ],
            "text/html": [
              "\n",
              "  <div id=\"df-de03b69b-fe02-4478-96f5-b04f85252561\">\n",
              "    <div class=\"colab-df-container\">\n",
              "      <div>\n",
              "<style scoped>\n",
              "    .dataframe tbody tr th:only-of-type {\n",
              "        vertical-align: middle;\n",
              "    }\n",
              "\n",
              "    .dataframe tbody tr th {\n",
              "        vertical-align: top;\n",
              "    }\n",
              "\n",
              "    .dataframe thead th {\n",
              "        text-align: right;\n",
              "    }\n",
              "</style>\n",
              "<table border=\"1\" class=\"dataframe\">\n",
              "  <thead>\n",
              "    <tr style=\"text-align: right;\">\n",
              "      <th></th>\n",
              "      <th>count</th>\n",
              "      <th>mean</th>\n",
              "      <th>std</th>\n",
              "      <th>min</th>\n",
              "      <th>25%</th>\n",
              "      <th>50%</th>\n",
              "      <th>75%</th>\n",
              "      <th>max</th>\n",
              "    </tr>\n",
              "  </thead>\n",
              "  <tbody>\n",
              "    <tr>\n",
              "      <th>IYR</th>\n",
              "      <td>2685.0</td>\n",
              "      <td>19.000000</td>\n",
              "      <td>0.000000</td>\n",
              "      <td>19.0</td>\n",
              "      <td>19.0</td>\n",
              "      <td>19.0</td>\n",
              "      <td>19.0</td>\n",
              "      <td>19.0</td>\n",
              "    </tr>\n",
              "    <tr>\n",
              "      <th>IMO</th>\n",
              "      <td>2685.0</td>\n",
              "      <td>6.320298</td>\n",
              "      <td>3.468001</td>\n",
              "      <td>1.0</td>\n",
              "      <td>3.0</td>\n",
              "      <td>6.0</td>\n",
              "      <td>9.0</td>\n",
              "      <td>12.0</td>\n",
              "    </tr>\n",
              "    <tr>\n",
              "      <th>STATE</th>\n",
              "      <td>2685.0</td>\n",
              "      <td>28.357169</td>\n",
              "      <td>15.457654</td>\n",
              "      <td>1.0</td>\n",
              "      <td>17.0</td>\n",
              "      <td>28.0</td>\n",
              "      <td>42.0</td>\n",
              "      <td>56.0</td>\n",
              "    </tr>\n",
              "  </tbody>\n",
              "</table>\n",
              "</div>\n",
              "      <button class=\"colab-df-convert\" onclick=\"convertToInteractive('df-de03b69b-fe02-4478-96f5-b04f85252561')\"\n",
              "              title=\"Convert this dataframe to an interactive table.\"\n",
              "              style=\"display:none;\">\n",
              "        \n",
              "  <svg xmlns=\"http://www.w3.org/2000/svg\" height=\"24px\"viewBox=\"0 0 24 24\"\n",
              "       width=\"24px\">\n",
              "    <path d=\"M0 0h24v24H0V0z\" fill=\"none\"/>\n",
              "    <path d=\"M18.56 5.44l.94 2.06.94-2.06 2.06-.94-2.06-.94-.94-2.06-.94 2.06-2.06.94zm-11 1L8.5 8.5l.94-2.06 2.06-.94-2.06-.94L8.5 2.5l-.94 2.06-2.06.94zm10 10l.94 2.06.94-2.06 2.06-.94-2.06-.94-.94-2.06-.94 2.06-2.06.94z\"/><path d=\"M17.41 7.96l-1.37-1.37c-.4-.4-.92-.59-1.43-.59-.52 0-1.04.2-1.43.59L10.3 9.45l-7.72 7.72c-.78.78-.78 2.05 0 2.83L4 21.41c.39.39.9.59 1.41.59.51 0 1.02-.2 1.41-.59l7.78-7.78 2.81-2.81c.8-.78.8-2.07 0-2.86zM5.41 20L4 18.59l7.72-7.72 1.47 1.35L5.41 20z\"/>\n",
              "  </svg>\n",
              "      </button>\n",
              "      \n",
              "  <style>\n",
              "    .colab-df-container {\n",
              "      display:flex;\n",
              "      flex-wrap:wrap;\n",
              "      gap: 12px;\n",
              "    }\n",
              "\n",
              "    .colab-df-convert {\n",
              "      background-color: #E8F0FE;\n",
              "      border: none;\n",
              "      border-radius: 50%;\n",
              "      cursor: pointer;\n",
              "      display: none;\n",
              "      fill: #1967D2;\n",
              "      height: 32px;\n",
              "      padding: 0 0 0 0;\n",
              "      width: 32px;\n",
              "    }\n",
              "\n",
              "    .colab-df-convert:hover {\n",
              "      background-color: #E2EBFA;\n",
              "      box-shadow: 0px 1px 2px rgba(60, 64, 67, 0.3), 0px 1px 3px 1px rgba(60, 64, 67, 0.15);\n",
              "      fill: #174EA6;\n",
              "    }\n",
              "\n",
              "    [theme=dark] .colab-df-convert {\n",
              "      background-color: #3B4455;\n",
              "      fill: #D2E3FC;\n",
              "    }\n",
              "\n",
              "    [theme=dark] .colab-df-convert:hover {\n",
              "      background-color: #434B5C;\n",
              "      box-shadow: 0px 1px 3px 1px rgba(0, 0, 0, 0.15);\n",
              "      filter: drop-shadow(0px 1px 2px rgba(0, 0, 0, 0.3));\n",
              "      fill: #FFFFFF;\n",
              "    }\n",
              "  </style>\n",
              "\n",
              "      <script>\n",
              "        const buttonEl =\n",
              "          document.querySelector('#df-de03b69b-fe02-4478-96f5-b04f85252561 button.colab-df-convert');\n",
              "        buttonEl.style.display =\n",
              "          google.colab.kernel.accessAllowed ? 'block' : 'none';\n",
              "\n",
              "        async function convertToInteractive(key) {\n",
              "          const element = document.querySelector('#df-de03b69b-fe02-4478-96f5-b04f85252561');\n",
              "          const dataTable =\n",
              "            await google.colab.kernel.invokeFunction('convertToInteractive',\n",
              "                                                     [key], {});\n",
              "          if (!dataTable) return;\n",
              "\n",
              "          const docLinkHtml = 'Like what you see? Visit the ' +\n",
              "            '<a target=\"_blank\" href=https://colab.research.google.com/notebooks/data_table.ipynb>data table notebook</a>'\n",
              "            + ' to learn more about interactive tables.';\n",
              "          element.innerHTML = '';\n",
              "          dataTable['output_type'] = 'display_data';\n",
              "          await google.colab.output.renderOutput(dataTable, element);\n",
              "          const docLink = document.createElement('div');\n",
              "          docLink.innerHTML = docLinkHtml;\n",
              "          element.appendChild(docLink);\n",
              "        }\n",
              "      </script>\n",
              "    </div>\n",
              "  </div>\n",
              "  "
            ]
          },
          "metadata": {},
          "execution_count": 52
        }
      ],
      "source": [
        "#summary stats of the dataset\n",
        "raw_data_df_.describe().T"
      ]
    },
    {
      "cell_type": "code",
      "execution_count": 53,
      "metadata": {
        "colab": {
          "base_uri": "https://localhost:8080/",
          "height": 733
        },
        "id": "qbMuoSSD7wnS",
        "outputId": "1a1b1e7e-b9cd-409c-d2a5-31f2597a626e"
      },
      "outputs": [
        {
          "output_type": "execute_result",
          "data": {
            "text/plain": [
              "   IYR  IMO RAILROAD  STATE        STATION     COUNTY  \\\n",
              "0   19   11      ATK      6    CASTROVILLE   MONTEREY   \n",
              "1   19   10     MNCW      9        NORWALK  FAIRFIELD   \n",
              "2   19    4      FEC     12  POMPANO BEACH    BROWARD   \n",
              "3   19    4      FEC     12  POMPANO BEACH    BROWARD   \n",
              "4   19    4      CSX     12        SEVILLE    VOLUSIA   \n",
              "\n",
              "                                               NARR1  \\\n",
              "0  CAMERA-EQUIPPED TRAIN 14 STRUCK AN OCCUPIED SA...   \n",
              "1  PRODUCTION GANG, TRAVELING NORTH WITH 22 PIECE...   \n",
              "2  BLF 604 WAS TRAVELING SOUTHBOUND ON EAST MAIN ...   \n",
              "3  BLF 606 WAS TRAVELING SOUTHBOUND ON EAST MAIN ...   \n",
              "4     AMTRAK P09811 STRUCK SEMI AT PRIVATE CROSSING.   \n",
              "\n",
              "                                               NARR2  \\\n",
              "0  HE OCCUPANT OF THE VEHICLE WAS A CONFIRMED FAT...   \n",
              "1                         E IMPACT WITH ONE ANOTHER.   \n",
              "2  G ACROSS THE TRACKS WITH HIS BIKE FROM THE WES...   \n",
              "3  MOTIVE ENGINEER SOUNDED HORN AND BELL AND PLAC...   \n",
              "4                                                NaN   \n",
              "\n",
              "                                               NARR3  \\\n",
              "0                                                NaN   \n",
              "1                                                NaN   \n",
              "2  LOCOMOTIVE ENGINEER SOUNDED HORN AND BELL TO W...   \n",
              "3  NGERS IN VEHICLE WERE TRANSPORTED TO LOCAL HOS...   \n",
              "4                                                NaN   \n",
              "\n",
              "                                               NARR4  ... NARR6 NARR7 NARR8  \\\n",
              "0                                                NaN  ...   NaN   NaN   NaN   \n",
              "1                                                NaN  ...   NaN   NaN   NaN   \n",
              "2  ASSER WAS STRUCK RESULTING IN A FATALITY.  BLF...  ...   NaN   NaN   NaN   \n",
              "3                                                NaN  ...   NaN   NaN   NaN   \n",
              "4                                                NaN  ...   NaN   NaN   NaN   \n",
              "\n",
              "  NARR9 NARR10 NARR11 NARR12 NARR13 NARR14 NARR15  \n",
              "0   NaN    NaN    NaN    NaN    NaN    NaN    NaN  \n",
              "1   NaN    NaN    NaN    NaN    NaN    NaN    NaN  \n",
              "2   NaN    NaN    NaN    NaN    NaN    NaN    NaN  \n",
              "3   NaN    NaN    NaN    NaN    NaN    NaN    NaN  \n",
              "4   NaN    NaN    NaN    NaN    NaN    NaN    NaN  \n",
              "\n",
              "[5 rows x 21 columns]"
            ],
            "text/html": [
              "\n",
              "  <div id=\"df-27fa240f-4bfb-4c4c-84b4-2bfa0fd65c6e\">\n",
              "    <div class=\"colab-df-container\">\n",
              "      <div>\n",
              "<style scoped>\n",
              "    .dataframe tbody tr th:only-of-type {\n",
              "        vertical-align: middle;\n",
              "    }\n",
              "\n",
              "    .dataframe tbody tr th {\n",
              "        vertical-align: top;\n",
              "    }\n",
              "\n",
              "    .dataframe thead th {\n",
              "        text-align: right;\n",
              "    }\n",
              "</style>\n",
              "<table border=\"1\" class=\"dataframe\">\n",
              "  <thead>\n",
              "    <tr style=\"text-align: right;\">\n",
              "      <th></th>\n",
              "      <th>IYR</th>\n",
              "      <th>IMO</th>\n",
              "      <th>RAILROAD</th>\n",
              "      <th>STATE</th>\n",
              "      <th>STATION</th>\n",
              "      <th>COUNTY</th>\n",
              "      <th>NARR1</th>\n",
              "      <th>NARR2</th>\n",
              "      <th>NARR3</th>\n",
              "      <th>NARR4</th>\n",
              "      <th>...</th>\n",
              "      <th>NARR6</th>\n",
              "      <th>NARR7</th>\n",
              "      <th>NARR8</th>\n",
              "      <th>NARR9</th>\n",
              "      <th>NARR10</th>\n",
              "      <th>NARR11</th>\n",
              "      <th>NARR12</th>\n",
              "      <th>NARR13</th>\n",
              "      <th>NARR14</th>\n",
              "      <th>NARR15</th>\n",
              "    </tr>\n",
              "  </thead>\n",
              "  <tbody>\n",
              "    <tr>\n",
              "      <th>0</th>\n",
              "      <td>19</td>\n",
              "      <td>11</td>\n",
              "      <td>ATK</td>\n",
              "      <td>6</td>\n",
              "      <td>CASTROVILLE</td>\n",
              "      <td>MONTEREY</td>\n",
              "      <td>CAMERA-EQUIPPED TRAIN 14 STRUCK AN OCCUPIED SA...</td>\n",
              "      <td>HE OCCUPANT OF THE VEHICLE WAS A CONFIRMED FAT...</td>\n",
              "      <td>NaN</td>\n",
              "      <td>NaN</td>\n",
              "      <td>...</td>\n",
              "      <td>NaN</td>\n",
              "      <td>NaN</td>\n",
              "      <td>NaN</td>\n",
              "      <td>NaN</td>\n",
              "      <td>NaN</td>\n",
              "      <td>NaN</td>\n",
              "      <td>NaN</td>\n",
              "      <td>NaN</td>\n",
              "      <td>NaN</td>\n",
              "      <td>NaN</td>\n",
              "    </tr>\n",
              "    <tr>\n",
              "      <th>1</th>\n",
              "      <td>19</td>\n",
              "      <td>10</td>\n",
              "      <td>MNCW</td>\n",
              "      <td>9</td>\n",
              "      <td>NORWALK</td>\n",
              "      <td>FAIRFIELD</td>\n",
              "      <td>PRODUCTION GANG, TRAVELING NORTH WITH 22 PIECE...</td>\n",
              "      <td>E IMPACT WITH ONE ANOTHER.</td>\n",
              "      <td>NaN</td>\n",
              "      <td>NaN</td>\n",
              "      <td>...</td>\n",
              "      <td>NaN</td>\n",
              "      <td>NaN</td>\n",
              "      <td>NaN</td>\n",
              "      <td>NaN</td>\n",
              "      <td>NaN</td>\n",
              "      <td>NaN</td>\n",
              "      <td>NaN</td>\n",
              "      <td>NaN</td>\n",
              "      <td>NaN</td>\n",
              "      <td>NaN</td>\n",
              "    </tr>\n",
              "    <tr>\n",
              "      <th>2</th>\n",
              "      <td>19</td>\n",
              "      <td>4</td>\n",
              "      <td>FEC</td>\n",
              "      <td>12</td>\n",
              "      <td>POMPANO BEACH</td>\n",
              "      <td>BROWARD</td>\n",
              "      <td>BLF 604 WAS TRAVELING SOUTHBOUND ON EAST MAIN ...</td>\n",
              "      <td>G ACROSS THE TRACKS WITH HIS BIKE FROM THE WES...</td>\n",
              "      <td>LOCOMOTIVE ENGINEER SOUNDED HORN AND BELL TO W...</td>\n",
              "      <td>ASSER WAS STRUCK RESULTING IN A FATALITY.  BLF...</td>\n",
              "      <td>...</td>\n",
              "      <td>NaN</td>\n",
              "      <td>NaN</td>\n",
              "      <td>NaN</td>\n",
              "      <td>NaN</td>\n",
              "      <td>NaN</td>\n",
              "      <td>NaN</td>\n",
              "      <td>NaN</td>\n",
              "      <td>NaN</td>\n",
              "      <td>NaN</td>\n",
              "      <td>NaN</td>\n",
              "    </tr>\n",
              "    <tr>\n",
              "      <th>3</th>\n",
              "      <td>19</td>\n",
              "      <td>4</td>\n",
              "      <td>FEC</td>\n",
              "      <td>12</td>\n",
              "      <td>POMPANO BEACH</td>\n",
              "      <td>BROWARD</td>\n",
              "      <td>BLF 606 WAS TRAVELING SOUTHBOUND ON EAST MAIN ...</td>\n",
              "      <td>MOTIVE ENGINEER SOUNDED HORN AND BELL AND PLAC...</td>\n",
              "      <td>NGERS IN VEHICLE WERE TRANSPORTED TO LOCAL HOS...</td>\n",
              "      <td>NaN</td>\n",
              "      <td>...</td>\n",
              "      <td>NaN</td>\n",
              "      <td>NaN</td>\n",
              "      <td>NaN</td>\n",
              "      <td>NaN</td>\n",
              "      <td>NaN</td>\n",
              "      <td>NaN</td>\n",
              "      <td>NaN</td>\n",
              "      <td>NaN</td>\n",
              "      <td>NaN</td>\n",
              "      <td>NaN</td>\n",
              "    </tr>\n",
              "    <tr>\n",
              "      <th>4</th>\n",
              "      <td>19</td>\n",
              "      <td>4</td>\n",
              "      <td>CSX</td>\n",
              "      <td>12</td>\n",
              "      <td>SEVILLE</td>\n",
              "      <td>VOLUSIA</td>\n",
              "      <td>AMTRAK P09811 STRUCK SEMI AT PRIVATE CROSSING.</td>\n",
              "      <td>NaN</td>\n",
              "      <td>NaN</td>\n",
              "      <td>NaN</td>\n",
              "      <td>...</td>\n",
              "      <td>NaN</td>\n",
              "      <td>NaN</td>\n",
              "      <td>NaN</td>\n",
              "      <td>NaN</td>\n",
              "      <td>NaN</td>\n",
              "      <td>NaN</td>\n",
              "      <td>NaN</td>\n",
              "      <td>NaN</td>\n",
              "      <td>NaN</td>\n",
              "      <td>NaN</td>\n",
              "    </tr>\n",
              "  </tbody>\n",
              "</table>\n",
              "<p>5 rows × 21 columns</p>\n",
              "</div>\n",
              "      <button class=\"colab-df-convert\" onclick=\"convertToInteractive('df-27fa240f-4bfb-4c4c-84b4-2bfa0fd65c6e')\"\n",
              "              title=\"Convert this dataframe to an interactive table.\"\n",
              "              style=\"display:none;\">\n",
              "        \n",
              "  <svg xmlns=\"http://www.w3.org/2000/svg\" height=\"24px\"viewBox=\"0 0 24 24\"\n",
              "       width=\"24px\">\n",
              "    <path d=\"M0 0h24v24H0V0z\" fill=\"none\"/>\n",
              "    <path d=\"M18.56 5.44l.94 2.06.94-2.06 2.06-.94-2.06-.94-.94-2.06-.94 2.06-2.06.94zm-11 1L8.5 8.5l.94-2.06 2.06-.94-2.06-.94L8.5 2.5l-.94 2.06-2.06.94zm10 10l.94 2.06.94-2.06 2.06-.94-2.06-.94-.94-2.06-.94 2.06-2.06.94z\"/><path d=\"M17.41 7.96l-1.37-1.37c-.4-.4-.92-.59-1.43-.59-.52 0-1.04.2-1.43.59L10.3 9.45l-7.72 7.72c-.78.78-.78 2.05 0 2.83L4 21.41c.39.39.9.59 1.41.59.51 0 1.02-.2 1.41-.59l7.78-7.78 2.81-2.81c.8-.78.8-2.07 0-2.86zM5.41 20L4 18.59l7.72-7.72 1.47 1.35L5.41 20z\"/>\n",
              "  </svg>\n",
              "      </button>\n",
              "      \n",
              "  <style>\n",
              "    .colab-df-container {\n",
              "      display:flex;\n",
              "      flex-wrap:wrap;\n",
              "      gap: 12px;\n",
              "    }\n",
              "\n",
              "    .colab-df-convert {\n",
              "      background-color: #E8F0FE;\n",
              "      border: none;\n",
              "      border-radius: 50%;\n",
              "      cursor: pointer;\n",
              "      display: none;\n",
              "      fill: #1967D2;\n",
              "      height: 32px;\n",
              "      padding: 0 0 0 0;\n",
              "      width: 32px;\n",
              "    }\n",
              "\n",
              "    .colab-df-convert:hover {\n",
              "      background-color: #E2EBFA;\n",
              "      box-shadow: 0px 1px 2px rgba(60, 64, 67, 0.3), 0px 1px 3px 1px rgba(60, 64, 67, 0.15);\n",
              "      fill: #174EA6;\n",
              "    }\n",
              "\n",
              "    [theme=dark] .colab-df-convert {\n",
              "      background-color: #3B4455;\n",
              "      fill: #D2E3FC;\n",
              "    }\n",
              "\n",
              "    [theme=dark] .colab-df-convert:hover {\n",
              "      background-color: #434B5C;\n",
              "      box-shadow: 0px 1px 3px 1px rgba(0, 0, 0, 0.15);\n",
              "      filter: drop-shadow(0px 1px 2px rgba(0, 0, 0, 0.3));\n",
              "      fill: #FFFFFF;\n",
              "    }\n",
              "  </style>\n",
              "\n",
              "      <script>\n",
              "        const buttonEl =\n",
              "          document.querySelector('#df-27fa240f-4bfb-4c4c-84b4-2bfa0fd65c6e button.colab-df-convert');\n",
              "        buttonEl.style.display =\n",
              "          google.colab.kernel.accessAllowed ? 'block' : 'none';\n",
              "\n",
              "        async function convertToInteractive(key) {\n",
              "          const element = document.querySelector('#df-27fa240f-4bfb-4c4c-84b4-2bfa0fd65c6e');\n",
              "          const dataTable =\n",
              "            await google.colab.kernel.invokeFunction('convertToInteractive',\n",
              "                                                     [key], {});\n",
              "          if (!dataTable) return;\n",
              "\n",
              "          const docLinkHtml = 'Like what you see? Visit the ' +\n",
              "            '<a target=\"_blank\" href=https://colab.research.google.com/notebooks/data_table.ipynb>data table notebook</a>'\n",
              "            + ' to learn more about interactive tables.';\n",
              "          element.innerHTML = '';\n",
              "          dataTable['output_type'] = 'display_data';\n",
              "          await google.colab.output.renderOutput(dataTable, element);\n",
              "          const docLink = document.createElement('div');\n",
              "          docLink.innerHTML = docLinkHtml;\n",
              "          element.appendChild(docLink);\n",
              "        }\n",
              "      </script>\n",
              "    </div>\n",
              "  </div>\n",
              "  "
            ]
          },
          "metadata": {},
          "execution_count": 53
        }
      ],
      "source": [
        "raw_data_df_.head()"
      ]
    },
    {
      "cell_type": "markdown",
      "metadata": {
        "id": "VbDWDcB07wnR"
      },
      "source": [
        "Ok - we encounter our first problem. The rail incidents are divided into many separate columns. We want the text to be in one column only and therefore need to merge those 15 columns into one"
      ]
    },
    {
      "cell_type": "markdown",
      "metadata": {
        "id": "D-F0WqhR7wnU"
      },
      "source": [
        "#### Removing Duplicates\n",
        "\n",
        "Before we merge the NARR columns, let's check whether there are any duplicates in the data and get rid of them. Pandas has an in-built duplicated() method which we can use for that"
      ]
    },
    {
      "cell_type": "code",
      "execution_count": 54,
      "metadata": {
        "id": "y10_EWQN7wnW"
      },
      "outputs": [],
      "source": [
        "#creating a new column in the dataframe that stores a boolean value whether that row is a duplicate or not\n",
        "raw_data_df_['dup'] = raw_data_df_.duplicated(subset=None, keep='first')"
      ]
    },
    {
      "cell_type": "code",
      "execution_count": 55,
      "metadata": {
        "colab": {
          "base_uri": "https://localhost:8080/"
        },
        "id": "-8lZFmhT7wnY",
        "outputId": "c2c55157-eb13-4edd-fa3e-1329adf27e35"
      },
      "outputs": [
        {
          "output_type": "execute_result",
          "data": {
            "text/plain": [
              "False    2401\n",
              "True      284\n",
              "Name: dup, dtype: int64"
            ]
          },
          "metadata": {},
          "execution_count": 55
        }
      ],
      "source": [
        "#checking how many duplicates there were by counting the True and False values in that column\n",
        "raw_data_df_['dup'].value_counts()"
      ]
    },
    {
      "cell_type": "code",
      "source": [
        "raw_data_df_"
      ],
      "metadata": {
        "colab": {
          "base_uri": "https://localhost:8080/",
          "height": 1000
        },
        "id": "dZLInsUpX-Il",
        "outputId": "bcc93e6e-6be8-42d2-d54b-20b8d45b2712"
      },
      "execution_count": 56,
      "outputs": [
        {
          "output_type": "execute_result",
          "data": {
            "text/plain": [
              "      IYR  IMO RAILROAD  STATE        STATION          COUNTY  \\\n",
              "0      19   11      ATK      6    CASTROVILLE        MONTEREY   \n",
              "1      19   10     MNCW      9        NORWALK       FAIRFIELD   \n",
              "2      19    4      FEC     12  POMPANO BEACH         BROWARD   \n",
              "3      19    4      FEC     12  POMPANO BEACH         BROWARD   \n",
              "4      19    4      CSX     12        SEVILLE         VOLUSIA   \n",
              "...   ...  ...      ...    ...            ...             ...   \n",
              "2680   19    2     NCTC      6      OCEANSIDE       SAN DIEGO   \n",
              "2681   19    1      MET      6        MODESTO      STANISLAUS   \n",
              "2682   19    7     BNSF      6    BAKERSFIELD            KERN   \n",
              "2683   19   12       UP      6    BLOOMINGTON  SAN BERNARDINO   \n",
              "2684   19   12       UP      6    BLOOMINGTON  SAN BERNARDINO   \n",
              "\n",
              "                                                  NARR1  \\\n",
              "0     CAMERA-EQUIPPED TRAIN 14 STRUCK AN OCCUPIED SA...   \n",
              "1     PRODUCTION GANG, TRAVELING NORTH WITH 22 PIECE...   \n",
              "2     BLF 604 WAS TRAVELING SOUTHBOUND ON EAST MAIN ...   \n",
              "3     BLF 606 WAS TRAVELING SOUTHBOUND ON EAST MAIN ...   \n",
              "4        AMTRAK P09811 STRUCK SEMI AT PRIVATE CROSSING.   \n",
              "...                                                 ...   \n",
              "2680        METROLINK 858 DERAILED AT STUART MESA YARD.   \n",
              "2681  ON THE MORNING OF JANUARY 15, 2019, CONDUCTOR ...   \n",
              "2682  EMPLOYEE STOPPED AND LINED THE DERAIL TO THE W...   \n",
              "2683  LOQ25-26 WAS MAKING A SHOVING MOVE WITH LIGHT ...   \n",
              "2684  LOQ25-26 WAS MAKING A SHOVING MOVE WITH LIGHT ...   \n",
              "\n",
              "                                                  NARR2  \\\n",
              "0     HE OCCUPANT OF THE VEHICLE WAS A CONFIRMED FAT...   \n",
              "1                            E IMPACT WITH ONE ANOTHER.   \n",
              "2     G ACROSS THE TRACKS WITH HIS BIKE FROM THE WES...   \n",
              "3     MOTIVE ENGINEER SOUNDED HORN AND BELL AND PLAC...   \n",
              "4                                                   NaN   \n",
              "...                                                 ...   \n",
              "2680                                                NaN   \n",
              "2681  SINGLE CAR, CONDUCTOR FAILED TO PROPERLY SECUR...   \n",
              "2682  OTIVE TO DERAIL DUE TO FAILURE TO APPLY OR REM...   \n",
              "2683  HE POINT.  THE CONDUCTOR THOUGHT THAT THE YELL...   \n",
              "2684  HE POINT.  THE CONDUCTOR THOUGHT THAT THE YELL...   \n",
              "\n",
              "                                                  NARR3  \\\n",
              "0                                                   NaN   \n",
              "1                                                   NaN   \n",
              "2     LOCOMOTIVE ENGINEER SOUNDED HORN AND BELL TO W...   \n",
              "3     NGERS IN VEHICLE WERE TRANSPORTED TO LOCAL HOS...   \n",
              "4                                                   NaN   \n",
              "...                                                 ...   \n",
              "2680                                                NaN   \n",
              "2681  ROLLING BACK INTO THE FOUL WHILE SHOVING INTO ...   \n",
              "2682                                                NaN   \n",
              "2683  SWITCH LINED FOR 308, WHEN IN FACT IT A WAS A ...   \n",
              "2684  SWITCH LINED FOR 308, WHEN IN FACT IT A WAS A ...   \n",
              "\n",
              "                                                  NARR4  ... NARR7 NARR8  \\\n",
              "0                                                   NaN  ...   NaN   NaN   \n",
              "1                                                   NaN  ...   NaN   NaN   \n",
              "2     ASSER WAS STRUCK RESULTING IN A FATALITY.  BLF...  ...   NaN   NaN   \n",
              "3                                                   NaN  ...   NaN   NaN   \n",
              "4                                                   NaN  ...   NaN   NaN   \n",
              "...                                                 ...  ...   ...   ...   \n",
              "2680                                                NaN  ...   NaN   NaN   \n",
              "2681  SINGLE CAR THAT ROLLED BACK INTO THE FOUL CAUS...  ...   NaN   NaN   \n",
              "2682                                                NaN  ...   NaN   NaN   \n",
              "2683  HE NOTICED THEY WERE ACTUALLY LINED FOR CROSSO...  ...   NaN   NaN   \n",
              "2684  HE NOTICED THEY WERE ACTUALLY LINED FOR CROSSO...  ...   NaN   NaN   \n",
              "\n",
              "     NARR9 NARR10 NARR11 NARR12 NARR13 NARR14 NARR15    dup  \n",
              "0      NaN    NaN    NaN    NaN    NaN    NaN    NaN  False  \n",
              "1      NaN    NaN    NaN    NaN    NaN    NaN    NaN  False  \n",
              "2      NaN    NaN    NaN    NaN    NaN    NaN    NaN  False  \n",
              "3      NaN    NaN    NaN    NaN    NaN    NaN    NaN  False  \n",
              "4      NaN    NaN    NaN    NaN    NaN    NaN    NaN  False  \n",
              "...    ...    ...    ...    ...    ...    ...    ...    ...  \n",
              "2680   NaN    NaN    NaN    NaN    NaN    NaN    NaN  False  \n",
              "2681   NaN    NaN    NaN    NaN    NaN    NaN    NaN  False  \n",
              "2682   NaN    NaN    NaN    NaN    NaN    NaN    NaN  False  \n",
              "2683   NaN    NaN    NaN    NaN    NaN    NaN    NaN  False  \n",
              "2684   NaN    NaN    NaN    NaN    NaN    NaN    NaN   True  \n",
              "\n",
              "[2685 rows x 22 columns]"
            ],
            "text/html": [
              "\n",
              "  <div id=\"df-0d7e79b7-0db2-4e6f-ad3e-3193c84162a8\">\n",
              "    <div class=\"colab-df-container\">\n",
              "      <div>\n",
              "<style scoped>\n",
              "    .dataframe tbody tr th:only-of-type {\n",
              "        vertical-align: middle;\n",
              "    }\n",
              "\n",
              "    .dataframe tbody tr th {\n",
              "        vertical-align: top;\n",
              "    }\n",
              "\n",
              "    .dataframe thead th {\n",
              "        text-align: right;\n",
              "    }\n",
              "</style>\n",
              "<table border=\"1\" class=\"dataframe\">\n",
              "  <thead>\n",
              "    <tr style=\"text-align: right;\">\n",
              "      <th></th>\n",
              "      <th>IYR</th>\n",
              "      <th>IMO</th>\n",
              "      <th>RAILROAD</th>\n",
              "      <th>STATE</th>\n",
              "      <th>STATION</th>\n",
              "      <th>COUNTY</th>\n",
              "      <th>NARR1</th>\n",
              "      <th>NARR2</th>\n",
              "      <th>NARR3</th>\n",
              "      <th>NARR4</th>\n",
              "      <th>...</th>\n",
              "      <th>NARR7</th>\n",
              "      <th>NARR8</th>\n",
              "      <th>NARR9</th>\n",
              "      <th>NARR10</th>\n",
              "      <th>NARR11</th>\n",
              "      <th>NARR12</th>\n",
              "      <th>NARR13</th>\n",
              "      <th>NARR14</th>\n",
              "      <th>NARR15</th>\n",
              "      <th>dup</th>\n",
              "    </tr>\n",
              "  </thead>\n",
              "  <tbody>\n",
              "    <tr>\n",
              "      <th>0</th>\n",
              "      <td>19</td>\n",
              "      <td>11</td>\n",
              "      <td>ATK</td>\n",
              "      <td>6</td>\n",
              "      <td>CASTROVILLE</td>\n",
              "      <td>MONTEREY</td>\n",
              "      <td>CAMERA-EQUIPPED TRAIN 14 STRUCK AN OCCUPIED SA...</td>\n",
              "      <td>HE OCCUPANT OF THE VEHICLE WAS A CONFIRMED FAT...</td>\n",
              "      <td>NaN</td>\n",
              "      <td>NaN</td>\n",
              "      <td>...</td>\n",
              "      <td>NaN</td>\n",
              "      <td>NaN</td>\n",
              "      <td>NaN</td>\n",
              "      <td>NaN</td>\n",
              "      <td>NaN</td>\n",
              "      <td>NaN</td>\n",
              "      <td>NaN</td>\n",
              "      <td>NaN</td>\n",
              "      <td>NaN</td>\n",
              "      <td>False</td>\n",
              "    </tr>\n",
              "    <tr>\n",
              "      <th>1</th>\n",
              "      <td>19</td>\n",
              "      <td>10</td>\n",
              "      <td>MNCW</td>\n",
              "      <td>9</td>\n",
              "      <td>NORWALK</td>\n",
              "      <td>FAIRFIELD</td>\n",
              "      <td>PRODUCTION GANG, TRAVELING NORTH WITH 22 PIECE...</td>\n",
              "      <td>E IMPACT WITH ONE ANOTHER.</td>\n",
              "      <td>NaN</td>\n",
              "      <td>NaN</td>\n",
              "      <td>...</td>\n",
              "      <td>NaN</td>\n",
              "      <td>NaN</td>\n",
              "      <td>NaN</td>\n",
              "      <td>NaN</td>\n",
              "      <td>NaN</td>\n",
              "      <td>NaN</td>\n",
              "      <td>NaN</td>\n",
              "      <td>NaN</td>\n",
              "      <td>NaN</td>\n",
              "      <td>False</td>\n",
              "    </tr>\n",
              "    <tr>\n",
              "      <th>2</th>\n",
              "      <td>19</td>\n",
              "      <td>4</td>\n",
              "      <td>FEC</td>\n",
              "      <td>12</td>\n",
              "      <td>POMPANO BEACH</td>\n",
              "      <td>BROWARD</td>\n",
              "      <td>BLF 604 WAS TRAVELING SOUTHBOUND ON EAST MAIN ...</td>\n",
              "      <td>G ACROSS THE TRACKS WITH HIS BIKE FROM THE WES...</td>\n",
              "      <td>LOCOMOTIVE ENGINEER SOUNDED HORN AND BELL TO W...</td>\n",
              "      <td>ASSER WAS STRUCK RESULTING IN A FATALITY.  BLF...</td>\n",
              "      <td>...</td>\n",
              "      <td>NaN</td>\n",
              "      <td>NaN</td>\n",
              "      <td>NaN</td>\n",
              "      <td>NaN</td>\n",
              "      <td>NaN</td>\n",
              "      <td>NaN</td>\n",
              "      <td>NaN</td>\n",
              "      <td>NaN</td>\n",
              "      <td>NaN</td>\n",
              "      <td>False</td>\n",
              "    </tr>\n",
              "    <tr>\n",
              "      <th>3</th>\n",
              "      <td>19</td>\n",
              "      <td>4</td>\n",
              "      <td>FEC</td>\n",
              "      <td>12</td>\n",
              "      <td>POMPANO BEACH</td>\n",
              "      <td>BROWARD</td>\n",
              "      <td>BLF 606 WAS TRAVELING SOUTHBOUND ON EAST MAIN ...</td>\n",
              "      <td>MOTIVE ENGINEER SOUNDED HORN AND BELL AND PLAC...</td>\n",
              "      <td>NGERS IN VEHICLE WERE TRANSPORTED TO LOCAL HOS...</td>\n",
              "      <td>NaN</td>\n",
              "      <td>...</td>\n",
              "      <td>NaN</td>\n",
              "      <td>NaN</td>\n",
              "      <td>NaN</td>\n",
              "      <td>NaN</td>\n",
              "      <td>NaN</td>\n",
              "      <td>NaN</td>\n",
              "      <td>NaN</td>\n",
              "      <td>NaN</td>\n",
              "      <td>NaN</td>\n",
              "      <td>False</td>\n",
              "    </tr>\n",
              "    <tr>\n",
              "      <th>4</th>\n",
              "      <td>19</td>\n",
              "      <td>4</td>\n",
              "      <td>CSX</td>\n",
              "      <td>12</td>\n",
              "      <td>SEVILLE</td>\n",
              "      <td>VOLUSIA</td>\n",
              "      <td>AMTRAK P09811 STRUCK SEMI AT PRIVATE CROSSING.</td>\n",
              "      <td>NaN</td>\n",
              "      <td>NaN</td>\n",
              "      <td>NaN</td>\n",
              "      <td>...</td>\n",
              "      <td>NaN</td>\n",
              "      <td>NaN</td>\n",
              "      <td>NaN</td>\n",
              "      <td>NaN</td>\n",
              "      <td>NaN</td>\n",
              "      <td>NaN</td>\n",
              "      <td>NaN</td>\n",
              "      <td>NaN</td>\n",
              "      <td>NaN</td>\n",
              "      <td>False</td>\n",
              "    </tr>\n",
              "    <tr>\n",
              "      <th>...</th>\n",
              "      <td>...</td>\n",
              "      <td>...</td>\n",
              "      <td>...</td>\n",
              "      <td>...</td>\n",
              "      <td>...</td>\n",
              "      <td>...</td>\n",
              "      <td>...</td>\n",
              "      <td>...</td>\n",
              "      <td>...</td>\n",
              "      <td>...</td>\n",
              "      <td>...</td>\n",
              "      <td>...</td>\n",
              "      <td>...</td>\n",
              "      <td>...</td>\n",
              "      <td>...</td>\n",
              "      <td>...</td>\n",
              "      <td>...</td>\n",
              "      <td>...</td>\n",
              "      <td>...</td>\n",
              "      <td>...</td>\n",
              "      <td>...</td>\n",
              "    </tr>\n",
              "    <tr>\n",
              "      <th>2680</th>\n",
              "      <td>19</td>\n",
              "      <td>2</td>\n",
              "      <td>NCTC</td>\n",
              "      <td>6</td>\n",
              "      <td>OCEANSIDE</td>\n",
              "      <td>SAN DIEGO</td>\n",
              "      <td>METROLINK 858 DERAILED AT STUART MESA YARD.</td>\n",
              "      <td>NaN</td>\n",
              "      <td>NaN</td>\n",
              "      <td>NaN</td>\n",
              "      <td>...</td>\n",
              "      <td>NaN</td>\n",
              "      <td>NaN</td>\n",
              "      <td>NaN</td>\n",
              "      <td>NaN</td>\n",
              "      <td>NaN</td>\n",
              "      <td>NaN</td>\n",
              "      <td>NaN</td>\n",
              "      <td>NaN</td>\n",
              "      <td>NaN</td>\n",
              "      <td>False</td>\n",
              "    </tr>\n",
              "    <tr>\n",
              "      <th>2681</th>\n",
              "      <td>19</td>\n",
              "      <td>1</td>\n",
              "      <td>MET</td>\n",
              "      <td>6</td>\n",
              "      <td>MODESTO</td>\n",
              "      <td>STANISLAUS</td>\n",
              "      <td>ON THE MORNING OF JANUARY 15, 2019, CONDUCTOR ...</td>\n",
              "      <td>SINGLE CAR, CONDUCTOR FAILED TO PROPERLY SECUR...</td>\n",
              "      <td>ROLLING BACK INTO THE FOUL WHILE SHOVING INTO ...</td>\n",
              "      <td>SINGLE CAR THAT ROLLED BACK INTO THE FOUL CAUS...</td>\n",
              "      <td>...</td>\n",
              "      <td>NaN</td>\n",
              "      <td>NaN</td>\n",
              "      <td>NaN</td>\n",
              "      <td>NaN</td>\n",
              "      <td>NaN</td>\n",
              "      <td>NaN</td>\n",
              "      <td>NaN</td>\n",
              "      <td>NaN</td>\n",
              "      <td>NaN</td>\n",
              "      <td>False</td>\n",
              "    </tr>\n",
              "    <tr>\n",
              "      <th>2682</th>\n",
              "      <td>19</td>\n",
              "      <td>7</td>\n",
              "      <td>BNSF</td>\n",
              "      <td>6</td>\n",
              "      <td>BAKERSFIELD</td>\n",
              "      <td>KERN</td>\n",
              "      <td>EMPLOYEE STOPPED AND LINED THE DERAIL TO THE W...</td>\n",
              "      <td>OTIVE TO DERAIL DUE TO FAILURE TO APPLY OR REM...</td>\n",
              "      <td>NaN</td>\n",
              "      <td>NaN</td>\n",
              "      <td>...</td>\n",
              "      <td>NaN</td>\n",
              "      <td>NaN</td>\n",
              "      <td>NaN</td>\n",
              "      <td>NaN</td>\n",
              "      <td>NaN</td>\n",
              "      <td>NaN</td>\n",
              "      <td>NaN</td>\n",
              "      <td>NaN</td>\n",
              "      <td>NaN</td>\n",
              "      <td>False</td>\n",
              "    </tr>\n",
              "    <tr>\n",
              "      <th>2683</th>\n",
              "      <td>19</td>\n",
              "      <td>12</td>\n",
              "      <td>UP</td>\n",
              "      <td>6</td>\n",
              "      <td>BLOOMINGTON</td>\n",
              "      <td>SAN BERNARDINO</td>\n",
              "      <td>LOQ25-26 WAS MAKING A SHOVING MOVE WITH LIGHT ...</td>\n",
              "      <td>HE POINT.  THE CONDUCTOR THOUGHT THAT THE YELL...</td>\n",
              "      <td>SWITCH LINED FOR 308, WHEN IN FACT IT A WAS A ...</td>\n",
              "      <td>HE NOTICED THEY WERE ACTUALLY LINED FOR CROSSO...</td>\n",
              "      <td>...</td>\n",
              "      <td>NaN</td>\n",
              "      <td>NaN</td>\n",
              "      <td>NaN</td>\n",
              "      <td>NaN</td>\n",
              "      <td>NaN</td>\n",
              "      <td>NaN</td>\n",
              "      <td>NaN</td>\n",
              "      <td>NaN</td>\n",
              "      <td>NaN</td>\n",
              "      <td>False</td>\n",
              "    </tr>\n",
              "    <tr>\n",
              "      <th>2684</th>\n",
              "      <td>19</td>\n",
              "      <td>12</td>\n",
              "      <td>UP</td>\n",
              "      <td>6</td>\n",
              "      <td>BLOOMINGTON</td>\n",
              "      <td>SAN BERNARDINO</td>\n",
              "      <td>LOQ25-26 WAS MAKING A SHOVING MOVE WITH LIGHT ...</td>\n",
              "      <td>HE POINT.  THE CONDUCTOR THOUGHT THAT THE YELL...</td>\n",
              "      <td>SWITCH LINED FOR 308, WHEN IN FACT IT A WAS A ...</td>\n",
              "      <td>HE NOTICED THEY WERE ACTUALLY LINED FOR CROSSO...</td>\n",
              "      <td>...</td>\n",
              "      <td>NaN</td>\n",
              "      <td>NaN</td>\n",
              "      <td>NaN</td>\n",
              "      <td>NaN</td>\n",
              "      <td>NaN</td>\n",
              "      <td>NaN</td>\n",
              "      <td>NaN</td>\n",
              "      <td>NaN</td>\n",
              "      <td>NaN</td>\n",
              "      <td>True</td>\n",
              "    </tr>\n",
              "  </tbody>\n",
              "</table>\n",
              "<p>2685 rows × 22 columns</p>\n",
              "</div>\n",
              "      <button class=\"colab-df-convert\" onclick=\"convertToInteractive('df-0d7e79b7-0db2-4e6f-ad3e-3193c84162a8')\"\n",
              "              title=\"Convert this dataframe to an interactive table.\"\n",
              "              style=\"display:none;\">\n",
              "        \n",
              "  <svg xmlns=\"http://www.w3.org/2000/svg\" height=\"24px\"viewBox=\"0 0 24 24\"\n",
              "       width=\"24px\">\n",
              "    <path d=\"M0 0h24v24H0V0z\" fill=\"none\"/>\n",
              "    <path d=\"M18.56 5.44l.94 2.06.94-2.06 2.06-.94-2.06-.94-.94-2.06-.94 2.06-2.06.94zm-11 1L8.5 8.5l.94-2.06 2.06-.94-2.06-.94L8.5 2.5l-.94 2.06-2.06.94zm10 10l.94 2.06.94-2.06 2.06-.94-2.06-.94-.94-2.06-.94 2.06-2.06.94z\"/><path d=\"M17.41 7.96l-1.37-1.37c-.4-.4-.92-.59-1.43-.59-.52 0-1.04.2-1.43.59L10.3 9.45l-7.72 7.72c-.78.78-.78 2.05 0 2.83L4 21.41c.39.39.9.59 1.41.59.51 0 1.02-.2 1.41-.59l7.78-7.78 2.81-2.81c.8-.78.8-2.07 0-2.86zM5.41 20L4 18.59l7.72-7.72 1.47 1.35L5.41 20z\"/>\n",
              "  </svg>\n",
              "      </button>\n",
              "      \n",
              "  <style>\n",
              "    .colab-df-container {\n",
              "      display:flex;\n",
              "      flex-wrap:wrap;\n",
              "      gap: 12px;\n",
              "    }\n",
              "\n",
              "    .colab-df-convert {\n",
              "      background-color: #E8F0FE;\n",
              "      border: none;\n",
              "      border-radius: 50%;\n",
              "      cursor: pointer;\n",
              "      display: none;\n",
              "      fill: #1967D2;\n",
              "      height: 32px;\n",
              "      padding: 0 0 0 0;\n",
              "      width: 32px;\n",
              "    }\n",
              "\n",
              "    .colab-df-convert:hover {\n",
              "      background-color: #E2EBFA;\n",
              "      box-shadow: 0px 1px 2px rgba(60, 64, 67, 0.3), 0px 1px 3px 1px rgba(60, 64, 67, 0.15);\n",
              "      fill: #174EA6;\n",
              "    }\n",
              "\n",
              "    [theme=dark] .colab-df-convert {\n",
              "      background-color: #3B4455;\n",
              "      fill: #D2E3FC;\n",
              "    }\n",
              "\n",
              "    [theme=dark] .colab-df-convert:hover {\n",
              "      background-color: #434B5C;\n",
              "      box-shadow: 0px 1px 3px 1px rgba(0, 0, 0, 0.15);\n",
              "      filter: drop-shadow(0px 1px 2px rgba(0, 0, 0, 0.3));\n",
              "      fill: #FFFFFF;\n",
              "    }\n",
              "  </style>\n",
              "\n",
              "      <script>\n",
              "        const buttonEl =\n",
              "          document.querySelector('#df-0d7e79b7-0db2-4e6f-ad3e-3193c84162a8 button.colab-df-convert');\n",
              "        buttonEl.style.display =\n",
              "          google.colab.kernel.accessAllowed ? 'block' : 'none';\n",
              "\n",
              "        async function convertToInteractive(key) {\n",
              "          const element = document.querySelector('#df-0d7e79b7-0db2-4e6f-ad3e-3193c84162a8');\n",
              "          const dataTable =\n",
              "            await google.colab.kernel.invokeFunction('convertToInteractive',\n",
              "                                                     [key], {});\n",
              "          if (!dataTable) return;\n",
              "\n",
              "          const docLinkHtml = 'Like what you see? Visit the ' +\n",
              "            '<a target=\"_blank\" href=https://colab.research.google.com/notebooks/data_table.ipynb>data table notebook</a>'\n",
              "            + ' to learn more about interactive tables.';\n",
              "          element.innerHTML = '';\n",
              "          dataTable['output_type'] = 'display_data';\n",
              "          await google.colab.output.renderOutput(dataTable, element);\n",
              "          const docLink = document.createElement('div');\n",
              "          docLink.innerHTML = docLinkHtml;\n",
              "          element.appendChild(docLink);\n",
              "        }\n",
              "      </script>\n",
              "    </div>\n",
              "  </div>\n",
              "  "
            ]
          },
          "metadata": {},
          "execution_count": 56
        }
      ]
    },
    {
      "cell_type": "code",
      "execution_count": null,
      "metadata": {
        "id": "rFMKobFyHeqk"
      },
      "outputs": [],
      "source": [
        "#raw_data_df_.describe()"
      ]
    },
    {
      "cell_type": "markdown",
      "metadata": {
        "id": "NB8WWJ2u7wna"
      },
      "source": [
        "There are quite a few duplicates. About 10% of the dataset are duplicates. Let's delete them"
      ]
    },
    {
      "cell_type": "code",
      "execution_count": 57,
      "metadata": {
        "id": "FbkULQNg7wnc"
      },
      "outputs": [],
      "source": [
        "# let's write the data into a new dataframe, only keeping the lines where the value for \"dup\" is False\n",
        "raw_data_df = raw_data_df_[raw_data_df_['dup'] == False]"
      ]
    },
    {
      "cell_type": "code",
      "execution_count": null,
      "metadata": {
        "id": "mqFEhCF0Hx5H"
      },
      "outputs": [],
      "source": [
        "# Instead of creating a new column with boolean values, you could also use the following to remove the duplicates\n",
        "# raw_data_df_ = raw_data_df_.drop_duplicates()"
      ]
    },
    {
      "cell_type": "code",
      "execution_count": 58,
      "metadata": {
        "colab": {
          "base_uri": "https://localhost:8080/",
          "height": 699
        },
        "id": "e8LS2IjUMpeC",
        "outputId": "e42543cf-7a9c-47f8-96da-8390d172d3f0"
      },
      "outputs": [
        {
          "output_type": "execute_result",
          "data": {
            "text/plain": [
              "      IYR  IMO RAILROAD  STATE      STATION          COUNTY  \\\n",
              "2679   19    2      TRC      6        TRONA  SAN BERNARDINO   \n",
              "2680   19    2     NCTC      6    OCEANSIDE       SAN DIEGO   \n",
              "2681   19    1      MET      6      MODESTO      STANISLAUS   \n",
              "2682   19    7     BNSF      6  BAKERSFIELD            KERN   \n",
              "2683   19   12       UP      6  BLOOMINGTON  SAN BERNARDINO   \n",
              "\n",
              "                                                  NARR1  \\\n",
              "2679  RUN 2 WAS IN THE PROCESS OF PULLING THE HEAD 1...   \n",
              "2680        METROLINK 858 DERAILED AT STUART MESA YARD.   \n",
              "2681  ON THE MORNING OF JANUARY 15, 2019, CONDUCTOR ...   \n",
              "2682  EMPLOYEE STOPPED AND LINED THE DERAIL TO THE W...   \n",
              "2683  LOQ25-26 WAS MAKING A SHOVING MOVE WITH LIGHT ...   \n",
              "\n",
              "                                                  NARR2  \\\n",
              "2679  RAKEMAN TOLD THE ENGINEER TO TAKE IT AHEAD 12 ...   \n",
              "2680                                                NaN   \n",
              "2681  SINGLE CAR, CONDUCTOR FAILED TO PROPERLY SECUR...   \n",
              "2682  OTIVE TO DERAIL DUE TO FAILURE TO APPLY OR REM...   \n",
              "2683  HE POINT.  THE CONDUCTOR THOUGHT THAT THE YELL...   \n",
              "\n",
              "                                                  NARR3  \\\n",
              "2679  HE GOT DOWN TO 3 CARS TO GO, THE CONDUCTOR TOL...   \n",
              "2680                                                NaN   \n",
              "2681  ROLLING BACK INTO THE FOUL WHILE SHOVING INTO ...   \n",
              "2682                                                NaN   \n",
              "2683  SWITCH LINED FOR 308, WHEN IN FACT IT A WAS A ...   \n",
              "\n",
              "                                                  NARR4  ... NARR7 NARR8  \\\n",
              "2679  NOT LOOKING RIGHT.  THE CONDUCTOR WALKED BACK ...  ...   NaN   NaN   \n",
              "2680                                                NaN  ...   NaN   NaN   \n",
              "2681  SINGLE CAR THAT ROLLED BACK INTO THE FOUL CAUS...  ...   NaN   NaN   \n",
              "2682                                                NaN  ...   NaN   NaN   \n",
              "2683  HE NOTICED THEY WERE ACTUALLY LINED FOR CROSSO...  ...   NaN   NaN   \n",
              "\n",
              "     NARR9 NARR10 NARR11 NARR12 NARR13 NARR14 NARR15    dup  \n",
              "2679   NaN    NaN    NaN    NaN    NaN    NaN    NaN  False  \n",
              "2680   NaN    NaN    NaN    NaN    NaN    NaN    NaN  False  \n",
              "2681   NaN    NaN    NaN    NaN    NaN    NaN    NaN  False  \n",
              "2682   NaN    NaN    NaN    NaN    NaN    NaN    NaN  False  \n",
              "2683   NaN    NaN    NaN    NaN    NaN    NaN    NaN  False  \n",
              "\n",
              "[5 rows x 22 columns]"
            ],
            "text/html": [
              "\n",
              "  <div id=\"df-de64db94-4366-4d93-a95f-856ea8d4c6cc\">\n",
              "    <div class=\"colab-df-container\">\n",
              "      <div>\n",
              "<style scoped>\n",
              "    .dataframe tbody tr th:only-of-type {\n",
              "        vertical-align: middle;\n",
              "    }\n",
              "\n",
              "    .dataframe tbody tr th {\n",
              "        vertical-align: top;\n",
              "    }\n",
              "\n",
              "    .dataframe thead th {\n",
              "        text-align: right;\n",
              "    }\n",
              "</style>\n",
              "<table border=\"1\" class=\"dataframe\">\n",
              "  <thead>\n",
              "    <tr style=\"text-align: right;\">\n",
              "      <th></th>\n",
              "      <th>IYR</th>\n",
              "      <th>IMO</th>\n",
              "      <th>RAILROAD</th>\n",
              "      <th>STATE</th>\n",
              "      <th>STATION</th>\n",
              "      <th>COUNTY</th>\n",
              "      <th>NARR1</th>\n",
              "      <th>NARR2</th>\n",
              "      <th>NARR3</th>\n",
              "      <th>NARR4</th>\n",
              "      <th>...</th>\n",
              "      <th>NARR7</th>\n",
              "      <th>NARR8</th>\n",
              "      <th>NARR9</th>\n",
              "      <th>NARR10</th>\n",
              "      <th>NARR11</th>\n",
              "      <th>NARR12</th>\n",
              "      <th>NARR13</th>\n",
              "      <th>NARR14</th>\n",
              "      <th>NARR15</th>\n",
              "      <th>dup</th>\n",
              "    </tr>\n",
              "  </thead>\n",
              "  <tbody>\n",
              "    <tr>\n",
              "      <th>2679</th>\n",
              "      <td>19</td>\n",
              "      <td>2</td>\n",
              "      <td>TRC</td>\n",
              "      <td>6</td>\n",
              "      <td>TRONA</td>\n",
              "      <td>SAN BERNARDINO</td>\n",
              "      <td>RUN 2 WAS IN THE PROCESS OF PULLING THE HEAD 1...</td>\n",
              "      <td>RAKEMAN TOLD THE ENGINEER TO TAKE IT AHEAD 12 ...</td>\n",
              "      <td>HE GOT DOWN TO 3 CARS TO GO, THE CONDUCTOR TOL...</td>\n",
              "      <td>NOT LOOKING RIGHT.  THE CONDUCTOR WALKED BACK ...</td>\n",
              "      <td>...</td>\n",
              "      <td>NaN</td>\n",
              "      <td>NaN</td>\n",
              "      <td>NaN</td>\n",
              "      <td>NaN</td>\n",
              "      <td>NaN</td>\n",
              "      <td>NaN</td>\n",
              "      <td>NaN</td>\n",
              "      <td>NaN</td>\n",
              "      <td>NaN</td>\n",
              "      <td>False</td>\n",
              "    </tr>\n",
              "    <tr>\n",
              "      <th>2680</th>\n",
              "      <td>19</td>\n",
              "      <td>2</td>\n",
              "      <td>NCTC</td>\n",
              "      <td>6</td>\n",
              "      <td>OCEANSIDE</td>\n",
              "      <td>SAN DIEGO</td>\n",
              "      <td>METROLINK 858 DERAILED AT STUART MESA YARD.</td>\n",
              "      <td>NaN</td>\n",
              "      <td>NaN</td>\n",
              "      <td>NaN</td>\n",
              "      <td>...</td>\n",
              "      <td>NaN</td>\n",
              "      <td>NaN</td>\n",
              "      <td>NaN</td>\n",
              "      <td>NaN</td>\n",
              "      <td>NaN</td>\n",
              "      <td>NaN</td>\n",
              "      <td>NaN</td>\n",
              "      <td>NaN</td>\n",
              "      <td>NaN</td>\n",
              "      <td>False</td>\n",
              "    </tr>\n",
              "    <tr>\n",
              "      <th>2681</th>\n",
              "      <td>19</td>\n",
              "      <td>1</td>\n",
              "      <td>MET</td>\n",
              "      <td>6</td>\n",
              "      <td>MODESTO</td>\n",
              "      <td>STANISLAUS</td>\n",
              "      <td>ON THE MORNING OF JANUARY 15, 2019, CONDUCTOR ...</td>\n",
              "      <td>SINGLE CAR, CONDUCTOR FAILED TO PROPERLY SECUR...</td>\n",
              "      <td>ROLLING BACK INTO THE FOUL WHILE SHOVING INTO ...</td>\n",
              "      <td>SINGLE CAR THAT ROLLED BACK INTO THE FOUL CAUS...</td>\n",
              "      <td>...</td>\n",
              "      <td>NaN</td>\n",
              "      <td>NaN</td>\n",
              "      <td>NaN</td>\n",
              "      <td>NaN</td>\n",
              "      <td>NaN</td>\n",
              "      <td>NaN</td>\n",
              "      <td>NaN</td>\n",
              "      <td>NaN</td>\n",
              "      <td>NaN</td>\n",
              "      <td>False</td>\n",
              "    </tr>\n",
              "    <tr>\n",
              "      <th>2682</th>\n",
              "      <td>19</td>\n",
              "      <td>7</td>\n",
              "      <td>BNSF</td>\n",
              "      <td>6</td>\n",
              "      <td>BAKERSFIELD</td>\n",
              "      <td>KERN</td>\n",
              "      <td>EMPLOYEE STOPPED AND LINED THE DERAIL TO THE W...</td>\n",
              "      <td>OTIVE TO DERAIL DUE TO FAILURE TO APPLY OR REM...</td>\n",
              "      <td>NaN</td>\n",
              "      <td>NaN</td>\n",
              "      <td>...</td>\n",
              "      <td>NaN</td>\n",
              "      <td>NaN</td>\n",
              "      <td>NaN</td>\n",
              "      <td>NaN</td>\n",
              "      <td>NaN</td>\n",
              "      <td>NaN</td>\n",
              "      <td>NaN</td>\n",
              "      <td>NaN</td>\n",
              "      <td>NaN</td>\n",
              "      <td>False</td>\n",
              "    </tr>\n",
              "    <tr>\n",
              "      <th>2683</th>\n",
              "      <td>19</td>\n",
              "      <td>12</td>\n",
              "      <td>UP</td>\n",
              "      <td>6</td>\n",
              "      <td>BLOOMINGTON</td>\n",
              "      <td>SAN BERNARDINO</td>\n",
              "      <td>LOQ25-26 WAS MAKING A SHOVING MOVE WITH LIGHT ...</td>\n",
              "      <td>HE POINT.  THE CONDUCTOR THOUGHT THAT THE YELL...</td>\n",
              "      <td>SWITCH LINED FOR 308, WHEN IN FACT IT A WAS A ...</td>\n",
              "      <td>HE NOTICED THEY WERE ACTUALLY LINED FOR CROSSO...</td>\n",
              "      <td>...</td>\n",
              "      <td>NaN</td>\n",
              "      <td>NaN</td>\n",
              "      <td>NaN</td>\n",
              "      <td>NaN</td>\n",
              "      <td>NaN</td>\n",
              "      <td>NaN</td>\n",
              "      <td>NaN</td>\n",
              "      <td>NaN</td>\n",
              "      <td>NaN</td>\n",
              "      <td>False</td>\n",
              "    </tr>\n",
              "  </tbody>\n",
              "</table>\n",
              "<p>5 rows × 22 columns</p>\n",
              "</div>\n",
              "      <button class=\"colab-df-convert\" onclick=\"convertToInteractive('df-de64db94-4366-4d93-a95f-856ea8d4c6cc')\"\n",
              "              title=\"Convert this dataframe to an interactive table.\"\n",
              "              style=\"display:none;\">\n",
              "        \n",
              "  <svg xmlns=\"http://www.w3.org/2000/svg\" height=\"24px\"viewBox=\"0 0 24 24\"\n",
              "       width=\"24px\">\n",
              "    <path d=\"M0 0h24v24H0V0z\" fill=\"none\"/>\n",
              "    <path d=\"M18.56 5.44l.94 2.06.94-2.06 2.06-.94-2.06-.94-.94-2.06-.94 2.06-2.06.94zm-11 1L8.5 8.5l.94-2.06 2.06-.94-2.06-.94L8.5 2.5l-.94 2.06-2.06.94zm10 10l.94 2.06.94-2.06 2.06-.94-2.06-.94-.94-2.06-.94 2.06-2.06.94z\"/><path d=\"M17.41 7.96l-1.37-1.37c-.4-.4-.92-.59-1.43-.59-.52 0-1.04.2-1.43.59L10.3 9.45l-7.72 7.72c-.78.78-.78 2.05 0 2.83L4 21.41c.39.39.9.59 1.41.59.51 0 1.02-.2 1.41-.59l7.78-7.78 2.81-2.81c.8-.78.8-2.07 0-2.86zM5.41 20L4 18.59l7.72-7.72 1.47 1.35L5.41 20z\"/>\n",
              "  </svg>\n",
              "      </button>\n",
              "      \n",
              "  <style>\n",
              "    .colab-df-container {\n",
              "      display:flex;\n",
              "      flex-wrap:wrap;\n",
              "      gap: 12px;\n",
              "    }\n",
              "\n",
              "    .colab-df-convert {\n",
              "      background-color: #E8F0FE;\n",
              "      border: none;\n",
              "      border-radius: 50%;\n",
              "      cursor: pointer;\n",
              "      display: none;\n",
              "      fill: #1967D2;\n",
              "      height: 32px;\n",
              "      padding: 0 0 0 0;\n",
              "      width: 32px;\n",
              "    }\n",
              "\n",
              "    .colab-df-convert:hover {\n",
              "      background-color: #E2EBFA;\n",
              "      box-shadow: 0px 1px 2px rgba(60, 64, 67, 0.3), 0px 1px 3px 1px rgba(60, 64, 67, 0.15);\n",
              "      fill: #174EA6;\n",
              "    }\n",
              "\n",
              "    [theme=dark] .colab-df-convert {\n",
              "      background-color: #3B4455;\n",
              "      fill: #D2E3FC;\n",
              "    }\n",
              "\n",
              "    [theme=dark] .colab-df-convert:hover {\n",
              "      background-color: #434B5C;\n",
              "      box-shadow: 0px 1px 3px 1px rgba(0, 0, 0, 0.15);\n",
              "      filter: drop-shadow(0px 1px 2px rgba(0, 0, 0, 0.3));\n",
              "      fill: #FFFFFF;\n",
              "    }\n",
              "  </style>\n",
              "\n",
              "      <script>\n",
              "        const buttonEl =\n",
              "          document.querySelector('#df-de64db94-4366-4d93-a95f-856ea8d4c6cc button.colab-df-convert');\n",
              "        buttonEl.style.display =\n",
              "          google.colab.kernel.accessAllowed ? 'block' : 'none';\n",
              "\n",
              "        async function convertToInteractive(key) {\n",
              "          const element = document.querySelector('#df-de64db94-4366-4d93-a95f-856ea8d4c6cc');\n",
              "          const dataTable =\n",
              "            await google.colab.kernel.invokeFunction('convertToInteractive',\n",
              "                                                     [key], {});\n",
              "          if (!dataTable) return;\n",
              "\n",
              "          const docLinkHtml = 'Like what you see? Visit the ' +\n",
              "            '<a target=\"_blank\" href=https://colab.research.google.com/notebooks/data_table.ipynb>data table notebook</a>'\n",
              "            + ' to learn more about interactive tables.';\n",
              "          element.innerHTML = '';\n",
              "          dataTable['output_type'] = 'display_data';\n",
              "          await google.colab.output.renderOutput(dataTable, element);\n",
              "          const docLink = document.createElement('div');\n",
              "          docLink.innerHTML = docLinkHtml;\n",
              "          element.appendChild(docLink);\n",
              "        }\n",
              "      </script>\n",
              "    </div>\n",
              "  </div>\n",
              "  "
            ]
          },
          "metadata": {},
          "execution_count": 58
        }
      ],
      "source": [
        "raw_data_df.tail()"
      ]
    },
    {
      "cell_type": "code",
      "execution_count": 59,
      "metadata": {
        "id": "Al8dmo3G7wnd"
      },
      "outputs": [],
      "source": [
        "del raw_data_df['dup'] # deleting \"dup\" column since we don't need it anymore"
      ]
    },
    {
      "cell_type": "code",
      "execution_count": 60,
      "metadata": {
        "colab": {
          "base_uri": "https://localhost:8080/",
          "height": 205
        },
        "id": "BV_emh2hMjz8",
        "outputId": "6b2fbb2b-ed27-449f-86b7-599152ee93c8"
      },
      "outputs": [
        {
          "output_type": "execute_result",
          "data": {
            "text/plain": [
              "          IYR     IMO  RAILROAD   STATE  STATION  COUNTY   NARR1  NARR2  \\\n",
              "False  2401.0  2401.0    2401.0  2401.0   2401.0  2401.0  2401.0   2106   \n",
              "True      NaN     NaN       NaN     NaN      NaN     NaN     NaN    295   \n",
              "\n",
              "       NARR3  NARR4  ...  NARR6  NARR7  NARR8  NARR9  NARR10  NARR11  NARR12  \\\n",
              "False   1147    582  ...    189    115     76     50      33      22      18   \n",
              "True    1254   1819  ...   2212   2286   2325   2351    2368    2379    2383   \n",
              "\n",
              "       NARR13  NARR14  NARR15  \n",
              "False      16       8       5  \n",
              "True     2385    2393    2396  \n",
              "\n",
              "[2 rows x 21 columns]"
            ],
            "text/html": [
              "\n",
              "  <div id=\"df-2a451f4b-01f3-4e6e-b530-f2ce7e042153\">\n",
              "    <div class=\"colab-df-container\">\n",
              "      <div>\n",
              "<style scoped>\n",
              "    .dataframe tbody tr th:only-of-type {\n",
              "        vertical-align: middle;\n",
              "    }\n",
              "\n",
              "    .dataframe tbody tr th {\n",
              "        vertical-align: top;\n",
              "    }\n",
              "\n",
              "    .dataframe thead th {\n",
              "        text-align: right;\n",
              "    }\n",
              "</style>\n",
              "<table border=\"1\" class=\"dataframe\">\n",
              "  <thead>\n",
              "    <tr style=\"text-align: right;\">\n",
              "      <th></th>\n",
              "      <th>IYR</th>\n",
              "      <th>IMO</th>\n",
              "      <th>RAILROAD</th>\n",
              "      <th>STATE</th>\n",
              "      <th>STATION</th>\n",
              "      <th>COUNTY</th>\n",
              "      <th>NARR1</th>\n",
              "      <th>NARR2</th>\n",
              "      <th>NARR3</th>\n",
              "      <th>NARR4</th>\n",
              "      <th>...</th>\n",
              "      <th>NARR6</th>\n",
              "      <th>NARR7</th>\n",
              "      <th>NARR8</th>\n",
              "      <th>NARR9</th>\n",
              "      <th>NARR10</th>\n",
              "      <th>NARR11</th>\n",
              "      <th>NARR12</th>\n",
              "      <th>NARR13</th>\n",
              "      <th>NARR14</th>\n",
              "      <th>NARR15</th>\n",
              "    </tr>\n",
              "  </thead>\n",
              "  <tbody>\n",
              "    <tr>\n",
              "      <th>False</th>\n",
              "      <td>2401.0</td>\n",
              "      <td>2401.0</td>\n",
              "      <td>2401.0</td>\n",
              "      <td>2401.0</td>\n",
              "      <td>2401.0</td>\n",
              "      <td>2401.0</td>\n",
              "      <td>2401.0</td>\n",
              "      <td>2106</td>\n",
              "      <td>1147</td>\n",
              "      <td>582</td>\n",
              "      <td>...</td>\n",
              "      <td>189</td>\n",
              "      <td>115</td>\n",
              "      <td>76</td>\n",
              "      <td>50</td>\n",
              "      <td>33</td>\n",
              "      <td>22</td>\n",
              "      <td>18</td>\n",
              "      <td>16</td>\n",
              "      <td>8</td>\n",
              "      <td>5</td>\n",
              "    </tr>\n",
              "    <tr>\n",
              "      <th>True</th>\n",
              "      <td>NaN</td>\n",
              "      <td>NaN</td>\n",
              "      <td>NaN</td>\n",
              "      <td>NaN</td>\n",
              "      <td>NaN</td>\n",
              "      <td>NaN</td>\n",
              "      <td>NaN</td>\n",
              "      <td>295</td>\n",
              "      <td>1254</td>\n",
              "      <td>1819</td>\n",
              "      <td>...</td>\n",
              "      <td>2212</td>\n",
              "      <td>2286</td>\n",
              "      <td>2325</td>\n",
              "      <td>2351</td>\n",
              "      <td>2368</td>\n",
              "      <td>2379</td>\n",
              "      <td>2383</td>\n",
              "      <td>2385</td>\n",
              "      <td>2393</td>\n",
              "      <td>2396</td>\n",
              "    </tr>\n",
              "  </tbody>\n",
              "</table>\n",
              "<p>2 rows × 21 columns</p>\n",
              "</div>\n",
              "      <button class=\"colab-df-convert\" onclick=\"convertToInteractive('df-2a451f4b-01f3-4e6e-b530-f2ce7e042153')\"\n",
              "              title=\"Convert this dataframe to an interactive table.\"\n",
              "              style=\"display:none;\">\n",
              "        \n",
              "  <svg xmlns=\"http://www.w3.org/2000/svg\" height=\"24px\"viewBox=\"0 0 24 24\"\n",
              "       width=\"24px\">\n",
              "    <path d=\"M0 0h24v24H0V0z\" fill=\"none\"/>\n",
              "    <path d=\"M18.56 5.44l.94 2.06.94-2.06 2.06-.94-2.06-.94-.94-2.06-.94 2.06-2.06.94zm-11 1L8.5 8.5l.94-2.06 2.06-.94-2.06-.94L8.5 2.5l-.94 2.06-2.06.94zm10 10l.94 2.06.94-2.06 2.06-.94-2.06-.94-.94-2.06-.94 2.06-2.06.94z\"/><path d=\"M17.41 7.96l-1.37-1.37c-.4-.4-.92-.59-1.43-.59-.52 0-1.04.2-1.43.59L10.3 9.45l-7.72 7.72c-.78.78-.78 2.05 0 2.83L4 21.41c.39.39.9.59 1.41.59.51 0 1.02-.2 1.41-.59l7.78-7.78 2.81-2.81c.8-.78.8-2.07 0-2.86zM5.41 20L4 18.59l7.72-7.72 1.47 1.35L5.41 20z\"/>\n",
              "  </svg>\n",
              "      </button>\n",
              "      \n",
              "  <style>\n",
              "    .colab-df-container {\n",
              "      display:flex;\n",
              "      flex-wrap:wrap;\n",
              "      gap: 12px;\n",
              "    }\n",
              "\n",
              "    .colab-df-convert {\n",
              "      background-color: #E8F0FE;\n",
              "      border: none;\n",
              "      border-radius: 50%;\n",
              "      cursor: pointer;\n",
              "      display: none;\n",
              "      fill: #1967D2;\n",
              "      height: 32px;\n",
              "      padding: 0 0 0 0;\n",
              "      width: 32px;\n",
              "    }\n",
              "\n",
              "    .colab-df-convert:hover {\n",
              "      background-color: #E2EBFA;\n",
              "      box-shadow: 0px 1px 2px rgba(60, 64, 67, 0.3), 0px 1px 3px 1px rgba(60, 64, 67, 0.15);\n",
              "      fill: #174EA6;\n",
              "    }\n",
              "\n",
              "    [theme=dark] .colab-df-convert {\n",
              "      background-color: #3B4455;\n",
              "      fill: #D2E3FC;\n",
              "    }\n",
              "\n",
              "    [theme=dark] .colab-df-convert:hover {\n",
              "      background-color: #434B5C;\n",
              "      box-shadow: 0px 1px 3px 1px rgba(0, 0, 0, 0.15);\n",
              "      filter: drop-shadow(0px 1px 2px rgba(0, 0, 0, 0.3));\n",
              "      fill: #FFFFFF;\n",
              "    }\n",
              "  </style>\n",
              "\n",
              "      <script>\n",
              "        const buttonEl =\n",
              "          document.querySelector('#df-2a451f4b-01f3-4e6e-b530-f2ce7e042153 button.colab-df-convert');\n",
              "        buttonEl.style.display =\n",
              "          google.colab.kernel.accessAllowed ? 'block' : 'none';\n",
              "\n",
              "        async function convertToInteractive(key) {\n",
              "          const element = document.querySelector('#df-2a451f4b-01f3-4e6e-b530-f2ce7e042153');\n",
              "          const dataTable =\n",
              "            await google.colab.kernel.invokeFunction('convertToInteractive',\n",
              "                                                     [key], {});\n",
              "          if (!dataTable) return;\n",
              "\n",
              "          const docLinkHtml = 'Like what you see? Visit the ' +\n",
              "            '<a target=\"_blank\" href=https://colab.research.google.com/notebooks/data_table.ipynb>data table notebook</a>'\n",
              "            + ' to learn more about interactive tables.';\n",
              "          element.innerHTML = '';\n",
              "          dataTable['output_type'] = 'display_data';\n",
              "          await google.colab.output.renderOutput(dataTable, element);\n",
              "          const docLink = document.createElement('div');\n",
              "          docLink.innerHTML = docLinkHtml;\n",
              "          element.appendChild(docLink);\n",
              "        }\n",
              "      </script>\n",
              "    </div>\n",
              "  </div>\n",
              "  "
            ]
          },
          "metadata": {},
          "execution_count": 60
        }
      ],
      "source": [
        "# Check for the null values \n",
        "\n",
        "raw_data_df.isna().apply(pd.value_counts) "
      ]
    },
    {
      "cell_type": "markdown",
      "metadata": {
        "id": "Q_yam_bkMjz9"
      },
      "source": [
        "We see some missing values. But, note that the missing values are in NARR columns, which we should be merging together in the next steps. Do we then remove the missing values now?"
      ]
    },
    {
      "cell_type": "markdown",
      "metadata": {
        "id": "mUwtF8FB7wne"
      },
      "source": [
        "#### Merging incident text into one column"
      ]
    },
    {
      "cell_type": "markdown",
      "metadata": {
        "id": "Yzaa3LTA7wnf"
      },
      "source": [
        "##### List slicing and lambda functions in python\n",
        "Ok, a lot is going on in the function below but let's break it down\n",
        "1. we are creating a new column (NARR) which will contain the whole narrative of the incident text\n",
        "2. we select all columns starting from columns 7 (NARR1) until the end. That's what [6:] is going: starting from column 6 (column 0 being the first) select all the columns until the end. If we wanted to merge only NARR1 and NARR2, we would write [6:8]. In python the ending column is not included so we would select only columns 6 and 7\n",
        "3. we are applying a lambda function to selected cell (x). A lambda function is a small anonymous function and comes handy when we are doing an operation only once and do not need to define a separate function for it\n",
        "4. the function iterates through each cell in the row starting at position 5 and joins it with the subsequent cells as a type string. If there cell is empty we ignore it (dropna()). The reason why we are expresively defining that the cell should be of type string is because some entries might not have an incident text (all NANs) and would be picked up by python as a float type\n",
        "5. the function goes through each row in the dataframe and does the merging described in 4."
      ]
    },
    {
      "cell_type": "code",
      "execution_count": 61,
      "metadata": {
        "id": "_6fcTLcp7wng"
      },
      "outputs": [],
      "source": [
        "\n",
        "raw_data_df['NARR'] = raw_data_df[raw_data_df.columns[6:]].apply(\n",
        "    lambda x: ' '.join(x.dropna().astype(str)),\n",
        "    axis=1\n",
        ")"
      ]
    },
    {
      "cell_type": "code",
      "execution_count": 62,
      "metadata": {
        "id": "J9QtziTE7wng",
        "outputId": "9c4aa458-b838-4394-f127-27c0d9b96772",
        "colab": {
          "base_uri": "https://localhost:8080/",
          "height": 733
        }
      },
      "outputs": [
        {
          "output_type": "execute_result",
          "data": {
            "text/plain": [
              "   IYR  IMO RAILROAD  STATE        STATION     COUNTY  \\\n",
              "0   19   11      ATK      6    CASTROVILLE   MONTEREY   \n",
              "1   19   10     MNCW      9        NORWALK  FAIRFIELD   \n",
              "2   19    4      FEC     12  POMPANO BEACH    BROWARD   \n",
              "3   19    4      FEC     12  POMPANO BEACH    BROWARD   \n",
              "4   19    4      CSX     12        SEVILLE    VOLUSIA   \n",
              "\n",
              "                                               NARR1  \\\n",
              "0  CAMERA-EQUIPPED TRAIN 14 STRUCK AN OCCUPIED SA...   \n",
              "1  PRODUCTION GANG, TRAVELING NORTH WITH 22 PIECE...   \n",
              "2  BLF 604 WAS TRAVELING SOUTHBOUND ON EAST MAIN ...   \n",
              "3  BLF 606 WAS TRAVELING SOUTHBOUND ON EAST MAIN ...   \n",
              "4     AMTRAK P09811 STRUCK SEMI AT PRIVATE CROSSING.   \n",
              "\n",
              "                                               NARR2  \\\n",
              "0  HE OCCUPANT OF THE VEHICLE WAS A CONFIRMED FAT...   \n",
              "1                         E IMPACT WITH ONE ANOTHER.   \n",
              "2  G ACROSS THE TRACKS WITH HIS BIKE FROM THE WES...   \n",
              "3  MOTIVE ENGINEER SOUNDED HORN AND BELL AND PLAC...   \n",
              "4                                                NaN   \n",
              "\n",
              "                                               NARR3  \\\n",
              "0                                                NaN   \n",
              "1                                                NaN   \n",
              "2  LOCOMOTIVE ENGINEER SOUNDED HORN AND BELL TO W...   \n",
              "3  NGERS IN VEHICLE WERE TRANSPORTED TO LOCAL HOS...   \n",
              "4                                                NaN   \n",
              "\n",
              "                                               NARR4  ... NARR7 NARR8 NARR9  \\\n",
              "0                                                NaN  ...   NaN   NaN   NaN   \n",
              "1                                                NaN  ...   NaN   NaN   NaN   \n",
              "2  ASSER WAS STRUCK RESULTING IN A FATALITY.  BLF...  ...   NaN   NaN   NaN   \n",
              "3                                                NaN  ...   NaN   NaN   NaN   \n",
              "4                                                NaN  ...   NaN   NaN   NaN   \n",
              "\n",
              "  NARR10 NARR11 NARR12 NARR13 NARR14 NARR15  \\\n",
              "0    NaN    NaN    NaN    NaN    NaN    NaN   \n",
              "1    NaN    NaN    NaN    NaN    NaN    NaN   \n",
              "2    NaN    NaN    NaN    NaN    NaN    NaN   \n",
              "3    NaN    NaN    NaN    NaN    NaN    NaN   \n",
              "4    NaN    NaN    NaN    NaN    NaN    NaN   \n",
              "\n",
              "                                                NARR  \n",
              "0  CAMERA-EQUIPPED TRAIN 14 STRUCK AN OCCUPIED SA...  \n",
              "1  PRODUCTION GANG, TRAVELING NORTH WITH 22 PIECE...  \n",
              "2  BLF 604 WAS TRAVELING SOUTHBOUND ON EAST MAIN ...  \n",
              "3  BLF 606 WAS TRAVELING SOUTHBOUND ON EAST MAIN ...  \n",
              "4     AMTRAK P09811 STRUCK SEMI AT PRIVATE CROSSING.  \n",
              "\n",
              "[5 rows x 22 columns]"
            ],
            "text/html": [
              "\n",
              "  <div id=\"df-f11161db-fd89-4ac3-a904-401eeffbd19d\">\n",
              "    <div class=\"colab-df-container\">\n",
              "      <div>\n",
              "<style scoped>\n",
              "    .dataframe tbody tr th:only-of-type {\n",
              "        vertical-align: middle;\n",
              "    }\n",
              "\n",
              "    .dataframe tbody tr th {\n",
              "        vertical-align: top;\n",
              "    }\n",
              "\n",
              "    .dataframe thead th {\n",
              "        text-align: right;\n",
              "    }\n",
              "</style>\n",
              "<table border=\"1\" class=\"dataframe\">\n",
              "  <thead>\n",
              "    <tr style=\"text-align: right;\">\n",
              "      <th></th>\n",
              "      <th>IYR</th>\n",
              "      <th>IMO</th>\n",
              "      <th>RAILROAD</th>\n",
              "      <th>STATE</th>\n",
              "      <th>STATION</th>\n",
              "      <th>COUNTY</th>\n",
              "      <th>NARR1</th>\n",
              "      <th>NARR2</th>\n",
              "      <th>NARR3</th>\n",
              "      <th>NARR4</th>\n",
              "      <th>...</th>\n",
              "      <th>NARR7</th>\n",
              "      <th>NARR8</th>\n",
              "      <th>NARR9</th>\n",
              "      <th>NARR10</th>\n",
              "      <th>NARR11</th>\n",
              "      <th>NARR12</th>\n",
              "      <th>NARR13</th>\n",
              "      <th>NARR14</th>\n",
              "      <th>NARR15</th>\n",
              "      <th>NARR</th>\n",
              "    </tr>\n",
              "  </thead>\n",
              "  <tbody>\n",
              "    <tr>\n",
              "      <th>0</th>\n",
              "      <td>19</td>\n",
              "      <td>11</td>\n",
              "      <td>ATK</td>\n",
              "      <td>6</td>\n",
              "      <td>CASTROVILLE</td>\n",
              "      <td>MONTEREY</td>\n",
              "      <td>CAMERA-EQUIPPED TRAIN 14 STRUCK AN OCCUPIED SA...</td>\n",
              "      <td>HE OCCUPANT OF THE VEHICLE WAS A CONFIRMED FAT...</td>\n",
              "      <td>NaN</td>\n",
              "      <td>NaN</td>\n",
              "      <td>...</td>\n",
              "      <td>NaN</td>\n",
              "      <td>NaN</td>\n",
              "      <td>NaN</td>\n",
              "      <td>NaN</td>\n",
              "      <td>NaN</td>\n",
              "      <td>NaN</td>\n",
              "      <td>NaN</td>\n",
              "      <td>NaN</td>\n",
              "      <td>NaN</td>\n",
              "      <td>CAMERA-EQUIPPED TRAIN 14 STRUCK AN OCCUPIED SA...</td>\n",
              "    </tr>\n",
              "    <tr>\n",
              "      <th>1</th>\n",
              "      <td>19</td>\n",
              "      <td>10</td>\n",
              "      <td>MNCW</td>\n",
              "      <td>9</td>\n",
              "      <td>NORWALK</td>\n",
              "      <td>FAIRFIELD</td>\n",
              "      <td>PRODUCTION GANG, TRAVELING NORTH WITH 22 PIECE...</td>\n",
              "      <td>E IMPACT WITH ONE ANOTHER.</td>\n",
              "      <td>NaN</td>\n",
              "      <td>NaN</td>\n",
              "      <td>...</td>\n",
              "      <td>NaN</td>\n",
              "      <td>NaN</td>\n",
              "      <td>NaN</td>\n",
              "      <td>NaN</td>\n",
              "      <td>NaN</td>\n",
              "      <td>NaN</td>\n",
              "      <td>NaN</td>\n",
              "      <td>NaN</td>\n",
              "      <td>NaN</td>\n",
              "      <td>PRODUCTION GANG, TRAVELING NORTH WITH 22 PIECE...</td>\n",
              "    </tr>\n",
              "    <tr>\n",
              "      <th>2</th>\n",
              "      <td>19</td>\n",
              "      <td>4</td>\n",
              "      <td>FEC</td>\n",
              "      <td>12</td>\n",
              "      <td>POMPANO BEACH</td>\n",
              "      <td>BROWARD</td>\n",
              "      <td>BLF 604 WAS TRAVELING SOUTHBOUND ON EAST MAIN ...</td>\n",
              "      <td>G ACROSS THE TRACKS WITH HIS BIKE FROM THE WES...</td>\n",
              "      <td>LOCOMOTIVE ENGINEER SOUNDED HORN AND BELL TO W...</td>\n",
              "      <td>ASSER WAS STRUCK RESULTING IN A FATALITY.  BLF...</td>\n",
              "      <td>...</td>\n",
              "      <td>NaN</td>\n",
              "      <td>NaN</td>\n",
              "      <td>NaN</td>\n",
              "      <td>NaN</td>\n",
              "      <td>NaN</td>\n",
              "      <td>NaN</td>\n",
              "      <td>NaN</td>\n",
              "      <td>NaN</td>\n",
              "      <td>NaN</td>\n",
              "      <td>BLF 604 WAS TRAVELING SOUTHBOUND ON EAST MAIN ...</td>\n",
              "    </tr>\n",
              "    <tr>\n",
              "      <th>3</th>\n",
              "      <td>19</td>\n",
              "      <td>4</td>\n",
              "      <td>FEC</td>\n",
              "      <td>12</td>\n",
              "      <td>POMPANO BEACH</td>\n",
              "      <td>BROWARD</td>\n",
              "      <td>BLF 606 WAS TRAVELING SOUTHBOUND ON EAST MAIN ...</td>\n",
              "      <td>MOTIVE ENGINEER SOUNDED HORN AND BELL AND PLAC...</td>\n",
              "      <td>NGERS IN VEHICLE WERE TRANSPORTED TO LOCAL HOS...</td>\n",
              "      <td>NaN</td>\n",
              "      <td>...</td>\n",
              "      <td>NaN</td>\n",
              "      <td>NaN</td>\n",
              "      <td>NaN</td>\n",
              "      <td>NaN</td>\n",
              "      <td>NaN</td>\n",
              "      <td>NaN</td>\n",
              "      <td>NaN</td>\n",
              "      <td>NaN</td>\n",
              "      <td>NaN</td>\n",
              "      <td>BLF 606 WAS TRAVELING SOUTHBOUND ON EAST MAIN ...</td>\n",
              "    </tr>\n",
              "    <tr>\n",
              "      <th>4</th>\n",
              "      <td>19</td>\n",
              "      <td>4</td>\n",
              "      <td>CSX</td>\n",
              "      <td>12</td>\n",
              "      <td>SEVILLE</td>\n",
              "      <td>VOLUSIA</td>\n",
              "      <td>AMTRAK P09811 STRUCK SEMI AT PRIVATE CROSSING.</td>\n",
              "      <td>NaN</td>\n",
              "      <td>NaN</td>\n",
              "      <td>NaN</td>\n",
              "      <td>...</td>\n",
              "      <td>NaN</td>\n",
              "      <td>NaN</td>\n",
              "      <td>NaN</td>\n",
              "      <td>NaN</td>\n",
              "      <td>NaN</td>\n",
              "      <td>NaN</td>\n",
              "      <td>NaN</td>\n",
              "      <td>NaN</td>\n",
              "      <td>NaN</td>\n",
              "      <td>AMTRAK P09811 STRUCK SEMI AT PRIVATE CROSSING.</td>\n",
              "    </tr>\n",
              "  </tbody>\n",
              "</table>\n",
              "<p>5 rows × 22 columns</p>\n",
              "</div>\n",
              "      <button class=\"colab-df-convert\" onclick=\"convertToInteractive('df-f11161db-fd89-4ac3-a904-401eeffbd19d')\"\n",
              "              title=\"Convert this dataframe to an interactive table.\"\n",
              "              style=\"display:none;\">\n",
              "        \n",
              "  <svg xmlns=\"http://www.w3.org/2000/svg\" height=\"24px\"viewBox=\"0 0 24 24\"\n",
              "       width=\"24px\">\n",
              "    <path d=\"M0 0h24v24H0V0z\" fill=\"none\"/>\n",
              "    <path d=\"M18.56 5.44l.94 2.06.94-2.06 2.06-.94-2.06-.94-.94-2.06-.94 2.06-2.06.94zm-11 1L8.5 8.5l.94-2.06 2.06-.94-2.06-.94L8.5 2.5l-.94 2.06-2.06.94zm10 10l.94 2.06.94-2.06 2.06-.94-2.06-.94-.94-2.06-.94 2.06-2.06.94z\"/><path d=\"M17.41 7.96l-1.37-1.37c-.4-.4-.92-.59-1.43-.59-.52 0-1.04.2-1.43.59L10.3 9.45l-7.72 7.72c-.78.78-.78 2.05 0 2.83L4 21.41c.39.39.9.59 1.41.59.51 0 1.02-.2 1.41-.59l7.78-7.78 2.81-2.81c.8-.78.8-2.07 0-2.86zM5.41 20L4 18.59l7.72-7.72 1.47 1.35L5.41 20z\"/>\n",
              "  </svg>\n",
              "      </button>\n",
              "      \n",
              "  <style>\n",
              "    .colab-df-container {\n",
              "      display:flex;\n",
              "      flex-wrap:wrap;\n",
              "      gap: 12px;\n",
              "    }\n",
              "\n",
              "    .colab-df-convert {\n",
              "      background-color: #E8F0FE;\n",
              "      border: none;\n",
              "      border-radius: 50%;\n",
              "      cursor: pointer;\n",
              "      display: none;\n",
              "      fill: #1967D2;\n",
              "      height: 32px;\n",
              "      padding: 0 0 0 0;\n",
              "      width: 32px;\n",
              "    }\n",
              "\n",
              "    .colab-df-convert:hover {\n",
              "      background-color: #E2EBFA;\n",
              "      box-shadow: 0px 1px 2px rgba(60, 64, 67, 0.3), 0px 1px 3px 1px rgba(60, 64, 67, 0.15);\n",
              "      fill: #174EA6;\n",
              "    }\n",
              "\n",
              "    [theme=dark] .colab-df-convert {\n",
              "      background-color: #3B4455;\n",
              "      fill: #D2E3FC;\n",
              "    }\n",
              "\n",
              "    [theme=dark] .colab-df-convert:hover {\n",
              "      background-color: #434B5C;\n",
              "      box-shadow: 0px 1px 3px 1px rgba(0, 0, 0, 0.15);\n",
              "      filter: drop-shadow(0px 1px 2px rgba(0, 0, 0, 0.3));\n",
              "      fill: #FFFFFF;\n",
              "    }\n",
              "  </style>\n",
              "\n",
              "      <script>\n",
              "        const buttonEl =\n",
              "          document.querySelector('#df-f11161db-fd89-4ac3-a904-401eeffbd19d button.colab-df-convert');\n",
              "        buttonEl.style.display =\n",
              "          google.colab.kernel.accessAllowed ? 'block' : 'none';\n",
              "\n",
              "        async function convertToInteractive(key) {\n",
              "          const element = document.querySelector('#df-f11161db-fd89-4ac3-a904-401eeffbd19d');\n",
              "          const dataTable =\n",
              "            await google.colab.kernel.invokeFunction('convertToInteractive',\n",
              "                                                     [key], {});\n",
              "          if (!dataTable) return;\n",
              "\n",
              "          const docLinkHtml = 'Like what you see? Visit the ' +\n",
              "            '<a target=\"_blank\" href=https://colab.research.google.com/notebooks/data_table.ipynb>data table notebook</a>'\n",
              "            + ' to learn more about interactive tables.';\n",
              "          element.innerHTML = '';\n",
              "          dataTable['output_type'] = 'display_data';\n",
              "          await google.colab.output.renderOutput(dataTable, element);\n",
              "          const docLink = document.createElement('div');\n",
              "          docLink.innerHTML = docLinkHtml;\n",
              "          element.appendChild(docLink);\n",
              "        }\n",
              "      </script>\n",
              "    </div>\n",
              "  </div>\n",
              "  "
            ]
          },
          "metadata": {},
          "execution_count": 62
        }
      ],
      "source": [
        "raw_data_df.head()"
      ]
    },
    {
      "cell_type": "markdown",
      "metadata": {
        "id": "ID4EvPDq7wnh"
      },
      "source": [
        "Ok, we see that it has worked - we have a new column with just NARR. But let's double check whether the function has really done what we wanted"
      ]
    },
    {
      "cell_type": "code",
      "execution_count": 65,
      "metadata": {
        "id": "HqrjBTGD7wni",
        "outputId": "1470feca-54a4-4bae-b403-9cf7c35172fe",
        "colab": {
          "base_uri": "https://localhost:8080/",
          "height": 35
        }
      },
      "outputs": [
        {
          "output_type": "execute_result",
          "data": {
            "text/plain": [
              "'PRODUCTION GANG, TRAVELING NORTH WITH 22 PIECES OF EQUIPMENT, HAD 7 SEPERATE PIECES OF EQUIPMENT MAK'"
            ],
            "application/vnd.google.colaboratory.intrinsic+json": {
              "type": "string"
            }
          },
          "metadata": {},
          "execution_count": 65
        }
      ],
      "source": [
        "raw_data_df.iloc[1,6] # NARR1 in first row 7th column"
      ]
    },
    {
      "cell_type": "code",
      "execution_count": 66,
      "metadata": {
        "id": "dx-kydmH7wnj",
        "outputId": "014eb158-66b9-463f-e78e-ce7037a0535f",
        "colab": {
          "base_uri": "https://localhost:8080/",
          "height": 35
        }
      },
      "outputs": [
        {
          "output_type": "execute_result",
          "data": {
            "text/plain": [
              "'E IMPACT WITH ONE ANOTHER.'"
            ],
            "application/vnd.google.colaboratory.intrinsic+json": {
              "type": "string"
            }
          },
          "metadata": {},
          "execution_count": 66
        }
      ],
      "source": [
        "raw_data_df.iloc[1,7] #NARR2 in first row 8th column"
      ]
    },
    {
      "cell_type": "code",
      "execution_count": 67,
      "metadata": {
        "id": "ka2LgHkp7wnk",
        "outputId": "4b38ed04-e94b-41fe-abba-ca684c86eb37",
        "colab": {
          "base_uri": "https://localhost:8080/",
          "height": 35
        }
      },
      "outputs": [
        {
          "output_type": "execute_result",
          "data": {
            "text/plain": [
              "'PRODUCTION GANG, TRAVELING NORTH WITH 22 PIECES OF EQUIPMENT, HAD 7 SEPERATE PIECES OF EQUIPMENT MAK E IMPACT WITH ONE ANOTHER.'"
            ],
            "application/vnd.google.colaboratory.intrinsic+json": {
              "type": "string"
            }
          },
          "metadata": {},
          "execution_count": 67
        }
      ],
      "source": [
        "raw_data_df.iloc[1,21] #NARR raw_data_df.iloc[1,-1] another way of selecting last row"
      ]
    },
    {
      "cell_type": "markdown",
      "metadata": {
        "id": "2BBgZB8N7wnl"
      },
      "source": [
        "Great - it has worked! The incident text of the first two NARR columns got combined into the newly created NARR column. Now let's select only this column and the other few"
      ]
    },
    {
      "cell_type": "code",
      "execution_count": 68,
      "metadata": {
        "id": "ygIoifdK7wnm"
      },
      "outputs": [],
      "source": [
        "#we want to delete columns in range 6-20\n",
        "cols = list(range(6,21))"
      ]
    },
    {
      "cell_type": "code",
      "execution_count": 69,
      "metadata": {
        "id": "tuGV2lHL7wnm",
        "outputId": "cd404b94-cbac-40fb-c99e-aa55cbf19293",
        "colab": {
          "base_uri": "https://localhost:8080/"
        }
      },
      "outputs": [
        {
          "output_type": "execute_result",
          "data": {
            "text/plain": [
              "[6, 7, 8, 9, 10, 11, 12, 13, 14, 15, 16, 17, 18, 19, 20]"
            ]
          },
          "metadata": {},
          "execution_count": 69
        }
      ],
      "source": [
        "cols"
      ]
    },
    {
      "cell_type": "markdown",
      "metadata": {
        "id": "frZJ5wOh7wnn"
      },
      "source": [
        "Why am I not just selecting the columns I need and create a new dataframe?\n",
        "I could: df_new= raw_data_df[['IYR','IMO', 'STATE', 'RAILROAD', 'STATION', 'COUNTY', 'NARR]]\n",
        "But imagine you have many more columns in your dataset. Doing it this way could be very tedious\n",
        "However, we know the range of columns we want to delete - 6th until 19th columns, so we can define that range and tell pandas to delete that range of columns"
      ]
    },
    {
      "cell_type": "code",
      "execution_count": 70,
      "metadata": {
        "id": "UXkKp_f-7wnn"
      },
      "outputs": [],
      "source": [
        "raw_data_df.drop(raw_data_df.columns[cols],axis=1,inplace=True)"
      ]
    },
    {
      "cell_type": "code",
      "execution_count": 71,
      "metadata": {
        "id": "Z58LpY637wnn",
        "outputId": "e225331b-34ea-4475-8d22-a07eca92d9a6",
        "scrolled": true,
        "colab": {
          "base_uri": "https://localhost:8080/",
          "height": 424
        }
      },
      "outputs": [
        {
          "output_type": "execute_result",
          "data": {
            "text/plain": [
              "      IYR  IMO RAILROAD  STATE        STATION          COUNTY  \\\n",
              "0      19   11      ATK      6    CASTROVILLE        MONTEREY   \n",
              "1      19   10     MNCW      9        NORWALK       FAIRFIELD   \n",
              "2      19    4      FEC     12  POMPANO BEACH         BROWARD   \n",
              "3      19    4      FEC     12  POMPANO BEACH         BROWARD   \n",
              "4      19    4      CSX     12        SEVILLE         VOLUSIA   \n",
              "...   ...  ...      ...    ...            ...             ...   \n",
              "2679   19    2      TRC      6          TRONA  SAN BERNARDINO   \n",
              "2680   19    2     NCTC      6      OCEANSIDE       SAN DIEGO   \n",
              "2681   19    1      MET      6        MODESTO      STANISLAUS   \n",
              "2682   19    7     BNSF      6    BAKERSFIELD            KERN   \n",
              "2683   19   12       UP      6    BLOOMINGTON  SAN BERNARDINO   \n",
              "\n",
              "                                                   NARR  \n",
              "0     CAMERA-EQUIPPED TRAIN 14 STRUCK AN OCCUPIED SA...  \n",
              "1     PRODUCTION GANG, TRAVELING NORTH WITH 22 PIECE...  \n",
              "2     BLF 604 WAS TRAVELING SOUTHBOUND ON EAST MAIN ...  \n",
              "3     BLF 606 WAS TRAVELING SOUTHBOUND ON EAST MAIN ...  \n",
              "4        AMTRAK P09811 STRUCK SEMI AT PRIVATE CROSSING.  \n",
              "...                                                 ...  \n",
              "2679  RUN 2 WAS IN THE PROCESS OF PULLING THE HEAD 1...  \n",
              "2680        METROLINK 858 DERAILED AT STUART MESA YARD.  \n",
              "2681  ON THE MORNING OF JANUARY 15, 2019, CONDUCTOR ...  \n",
              "2682  EMPLOYEE STOPPED AND LINED THE DERAIL TO THE W...  \n",
              "2683  LOQ25-26 WAS MAKING A SHOVING MOVE WITH LIGHT ...  \n",
              "\n",
              "[2401 rows x 7 columns]"
            ],
            "text/html": [
              "\n",
              "  <div id=\"df-fcd2be09-6058-4347-87de-cce6c2a6fea6\">\n",
              "    <div class=\"colab-df-container\">\n",
              "      <div>\n",
              "<style scoped>\n",
              "    .dataframe tbody tr th:only-of-type {\n",
              "        vertical-align: middle;\n",
              "    }\n",
              "\n",
              "    .dataframe tbody tr th {\n",
              "        vertical-align: top;\n",
              "    }\n",
              "\n",
              "    .dataframe thead th {\n",
              "        text-align: right;\n",
              "    }\n",
              "</style>\n",
              "<table border=\"1\" class=\"dataframe\">\n",
              "  <thead>\n",
              "    <tr style=\"text-align: right;\">\n",
              "      <th></th>\n",
              "      <th>IYR</th>\n",
              "      <th>IMO</th>\n",
              "      <th>RAILROAD</th>\n",
              "      <th>STATE</th>\n",
              "      <th>STATION</th>\n",
              "      <th>COUNTY</th>\n",
              "      <th>NARR</th>\n",
              "    </tr>\n",
              "  </thead>\n",
              "  <tbody>\n",
              "    <tr>\n",
              "      <th>0</th>\n",
              "      <td>19</td>\n",
              "      <td>11</td>\n",
              "      <td>ATK</td>\n",
              "      <td>6</td>\n",
              "      <td>CASTROVILLE</td>\n",
              "      <td>MONTEREY</td>\n",
              "      <td>CAMERA-EQUIPPED TRAIN 14 STRUCK AN OCCUPIED SA...</td>\n",
              "    </tr>\n",
              "    <tr>\n",
              "      <th>1</th>\n",
              "      <td>19</td>\n",
              "      <td>10</td>\n",
              "      <td>MNCW</td>\n",
              "      <td>9</td>\n",
              "      <td>NORWALK</td>\n",
              "      <td>FAIRFIELD</td>\n",
              "      <td>PRODUCTION GANG, TRAVELING NORTH WITH 22 PIECE...</td>\n",
              "    </tr>\n",
              "    <tr>\n",
              "      <th>2</th>\n",
              "      <td>19</td>\n",
              "      <td>4</td>\n",
              "      <td>FEC</td>\n",
              "      <td>12</td>\n",
              "      <td>POMPANO BEACH</td>\n",
              "      <td>BROWARD</td>\n",
              "      <td>BLF 604 WAS TRAVELING SOUTHBOUND ON EAST MAIN ...</td>\n",
              "    </tr>\n",
              "    <tr>\n",
              "      <th>3</th>\n",
              "      <td>19</td>\n",
              "      <td>4</td>\n",
              "      <td>FEC</td>\n",
              "      <td>12</td>\n",
              "      <td>POMPANO BEACH</td>\n",
              "      <td>BROWARD</td>\n",
              "      <td>BLF 606 WAS TRAVELING SOUTHBOUND ON EAST MAIN ...</td>\n",
              "    </tr>\n",
              "    <tr>\n",
              "      <th>4</th>\n",
              "      <td>19</td>\n",
              "      <td>4</td>\n",
              "      <td>CSX</td>\n",
              "      <td>12</td>\n",
              "      <td>SEVILLE</td>\n",
              "      <td>VOLUSIA</td>\n",
              "      <td>AMTRAK P09811 STRUCK SEMI AT PRIVATE CROSSING.</td>\n",
              "    </tr>\n",
              "    <tr>\n",
              "      <th>...</th>\n",
              "      <td>...</td>\n",
              "      <td>...</td>\n",
              "      <td>...</td>\n",
              "      <td>...</td>\n",
              "      <td>...</td>\n",
              "      <td>...</td>\n",
              "      <td>...</td>\n",
              "    </tr>\n",
              "    <tr>\n",
              "      <th>2679</th>\n",
              "      <td>19</td>\n",
              "      <td>2</td>\n",
              "      <td>TRC</td>\n",
              "      <td>6</td>\n",
              "      <td>TRONA</td>\n",
              "      <td>SAN BERNARDINO</td>\n",
              "      <td>RUN 2 WAS IN THE PROCESS OF PULLING THE HEAD 1...</td>\n",
              "    </tr>\n",
              "    <tr>\n",
              "      <th>2680</th>\n",
              "      <td>19</td>\n",
              "      <td>2</td>\n",
              "      <td>NCTC</td>\n",
              "      <td>6</td>\n",
              "      <td>OCEANSIDE</td>\n",
              "      <td>SAN DIEGO</td>\n",
              "      <td>METROLINK 858 DERAILED AT STUART MESA YARD.</td>\n",
              "    </tr>\n",
              "    <tr>\n",
              "      <th>2681</th>\n",
              "      <td>19</td>\n",
              "      <td>1</td>\n",
              "      <td>MET</td>\n",
              "      <td>6</td>\n",
              "      <td>MODESTO</td>\n",
              "      <td>STANISLAUS</td>\n",
              "      <td>ON THE MORNING OF JANUARY 15, 2019, CONDUCTOR ...</td>\n",
              "    </tr>\n",
              "    <tr>\n",
              "      <th>2682</th>\n",
              "      <td>19</td>\n",
              "      <td>7</td>\n",
              "      <td>BNSF</td>\n",
              "      <td>6</td>\n",
              "      <td>BAKERSFIELD</td>\n",
              "      <td>KERN</td>\n",
              "      <td>EMPLOYEE STOPPED AND LINED THE DERAIL TO THE W...</td>\n",
              "    </tr>\n",
              "    <tr>\n",
              "      <th>2683</th>\n",
              "      <td>19</td>\n",
              "      <td>12</td>\n",
              "      <td>UP</td>\n",
              "      <td>6</td>\n",
              "      <td>BLOOMINGTON</td>\n",
              "      <td>SAN BERNARDINO</td>\n",
              "      <td>LOQ25-26 WAS MAKING A SHOVING MOVE WITH LIGHT ...</td>\n",
              "    </tr>\n",
              "  </tbody>\n",
              "</table>\n",
              "<p>2401 rows × 7 columns</p>\n",
              "</div>\n",
              "      <button class=\"colab-df-convert\" onclick=\"convertToInteractive('df-fcd2be09-6058-4347-87de-cce6c2a6fea6')\"\n",
              "              title=\"Convert this dataframe to an interactive table.\"\n",
              "              style=\"display:none;\">\n",
              "        \n",
              "  <svg xmlns=\"http://www.w3.org/2000/svg\" height=\"24px\"viewBox=\"0 0 24 24\"\n",
              "       width=\"24px\">\n",
              "    <path d=\"M0 0h24v24H0V0z\" fill=\"none\"/>\n",
              "    <path d=\"M18.56 5.44l.94 2.06.94-2.06 2.06-.94-2.06-.94-.94-2.06-.94 2.06-2.06.94zm-11 1L8.5 8.5l.94-2.06 2.06-.94-2.06-.94L8.5 2.5l-.94 2.06-2.06.94zm10 10l.94 2.06.94-2.06 2.06-.94-2.06-.94-.94-2.06-.94 2.06-2.06.94z\"/><path d=\"M17.41 7.96l-1.37-1.37c-.4-.4-.92-.59-1.43-.59-.52 0-1.04.2-1.43.59L10.3 9.45l-7.72 7.72c-.78.78-.78 2.05 0 2.83L4 21.41c.39.39.9.59 1.41.59.51 0 1.02-.2 1.41-.59l7.78-7.78 2.81-2.81c.8-.78.8-2.07 0-2.86zM5.41 20L4 18.59l7.72-7.72 1.47 1.35L5.41 20z\"/>\n",
              "  </svg>\n",
              "      </button>\n",
              "      \n",
              "  <style>\n",
              "    .colab-df-container {\n",
              "      display:flex;\n",
              "      flex-wrap:wrap;\n",
              "      gap: 12px;\n",
              "    }\n",
              "\n",
              "    .colab-df-convert {\n",
              "      background-color: #E8F0FE;\n",
              "      border: none;\n",
              "      border-radius: 50%;\n",
              "      cursor: pointer;\n",
              "      display: none;\n",
              "      fill: #1967D2;\n",
              "      height: 32px;\n",
              "      padding: 0 0 0 0;\n",
              "      width: 32px;\n",
              "    }\n",
              "\n",
              "    .colab-df-convert:hover {\n",
              "      background-color: #E2EBFA;\n",
              "      box-shadow: 0px 1px 2px rgba(60, 64, 67, 0.3), 0px 1px 3px 1px rgba(60, 64, 67, 0.15);\n",
              "      fill: #174EA6;\n",
              "    }\n",
              "\n",
              "    [theme=dark] .colab-df-convert {\n",
              "      background-color: #3B4455;\n",
              "      fill: #D2E3FC;\n",
              "    }\n",
              "\n",
              "    [theme=dark] .colab-df-convert:hover {\n",
              "      background-color: #434B5C;\n",
              "      box-shadow: 0px 1px 3px 1px rgba(0, 0, 0, 0.15);\n",
              "      filter: drop-shadow(0px 1px 2px rgba(0, 0, 0, 0.3));\n",
              "      fill: #FFFFFF;\n",
              "    }\n",
              "  </style>\n",
              "\n",
              "      <script>\n",
              "        const buttonEl =\n",
              "          document.querySelector('#df-fcd2be09-6058-4347-87de-cce6c2a6fea6 button.colab-df-convert');\n",
              "        buttonEl.style.display =\n",
              "          google.colab.kernel.accessAllowed ? 'block' : 'none';\n",
              "\n",
              "        async function convertToInteractive(key) {\n",
              "          const element = document.querySelector('#df-fcd2be09-6058-4347-87de-cce6c2a6fea6');\n",
              "          const dataTable =\n",
              "            await google.colab.kernel.invokeFunction('convertToInteractive',\n",
              "                                                     [key], {});\n",
              "          if (!dataTable) return;\n",
              "\n",
              "          const docLinkHtml = 'Like what you see? Visit the ' +\n",
              "            '<a target=\"_blank\" href=https://colab.research.google.com/notebooks/data_table.ipynb>data table notebook</a>'\n",
              "            + ' to learn more about interactive tables.';\n",
              "          element.innerHTML = '';\n",
              "          dataTable['output_type'] = 'display_data';\n",
              "          await google.colab.output.renderOutput(dataTable, element);\n",
              "          const docLink = document.createElement('div');\n",
              "          docLink.innerHTML = docLinkHtml;\n",
              "          element.appendChild(docLink);\n",
              "        }\n",
              "      </script>\n",
              "    </div>\n",
              "  </div>\n",
              "  "
            ]
          },
          "metadata": {},
          "execution_count": 71
        }
      ],
      "source": [
        "raw_data_df"
      ]
    },
    {
      "cell_type": "code",
      "execution_count": 72,
      "metadata": {
        "id": "W4iD2JMtMj0E",
        "outputId": "2c19a292-db73-44f3-da10-7ed4009cfe37",
        "colab": {
          "base_uri": "https://localhost:8080/",
          "height": 81
        }
      },
      "outputs": [
        {
          "output_type": "execute_result",
          "data": {
            "text/plain": [
              "        IYR   IMO  RAILROAD  STATE  STATION  COUNTY  NARR\n",
              "False  2401  2401      2401   2401     2401    2401  2401"
            ],
            "text/html": [
              "\n",
              "  <div id=\"df-74d5e8ce-75c6-4723-a62e-04d785e265d9\">\n",
              "    <div class=\"colab-df-container\">\n",
              "      <div>\n",
              "<style scoped>\n",
              "    .dataframe tbody tr th:only-of-type {\n",
              "        vertical-align: middle;\n",
              "    }\n",
              "\n",
              "    .dataframe tbody tr th {\n",
              "        vertical-align: top;\n",
              "    }\n",
              "\n",
              "    .dataframe thead th {\n",
              "        text-align: right;\n",
              "    }\n",
              "</style>\n",
              "<table border=\"1\" class=\"dataframe\">\n",
              "  <thead>\n",
              "    <tr style=\"text-align: right;\">\n",
              "      <th></th>\n",
              "      <th>IYR</th>\n",
              "      <th>IMO</th>\n",
              "      <th>RAILROAD</th>\n",
              "      <th>STATE</th>\n",
              "      <th>STATION</th>\n",
              "      <th>COUNTY</th>\n",
              "      <th>NARR</th>\n",
              "    </tr>\n",
              "  </thead>\n",
              "  <tbody>\n",
              "    <tr>\n",
              "      <th>False</th>\n",
              "      <td>2401</td>\n",
              "      <td>2401</td>\n",
              "      <td>2401</td>\n",
              "      <td>2401</td>\n",
              "      <td>2401</td>\n",
              "      <td>2401</td>\n",
              "      <td>2401</td>\n",
              "    </tr>\n",
              "  </tbody>\n",
              "</table>\n",
              "</div>\n",
              "      <button class=\"colab-df-convert\" onclick=\"convertToInteractive('df-74d5e8ce-75c6-4723-a62e-04d785e265d9')\"\n",
              "              title=\"Convert this dataframe to an interactive table.\"\n",
              "              style=\"display:none;\">\n",
              "        \n",
              "  <svg xmlns=\"http://www.w3.org/2000/svg\" height=\"24px\"viewBox=\"0 0 24 24\"\n",
              "       width=\"24px\">\n",
              "    <path d=\"M0 0h24v24H0V0z\" fill=\"none\"/>\n",
              "    <path d=\"M18.56 5.44l.94 2.06.94-2.06 2.06-.94-2.06-.94-.94-2.06-.94 2.06-2.06.94zm-11 1L8.5 8.5l.94-2.06 2.06-.94-2.06-.94L8.5 2.5l-.94 2.06-2.06.94zm10 10l.94 2.06.94-2.06 2.06-.94-2.06-.94-.94-2.06-.94 2.06-2.06.94z\"/><path d=\"M17.41 7.96l-1.37-1.37c-.4-.4-.92-.59-1.43-.59-.52 0-1.04.2-1.43.59L10.3 9.45l-7.72 7.72c-.78.78-.78 2.05 0 2.83L4 21.41c.39.39.9.59 1.41.59.51 0 1.02-.2 1.41-.59l7.78-7.78 2.81-2.81c.8-.78.8-2.07 0-2.86zM5.41 20L4 18.59l7.72-7.72 1.47 1.35L5.41 20z\"/>\n",
              "  </svg>\n",
              "      </button>\n",
              "      \n",
              "  <style>\n",
              "    .colab-df-container {\n",
              "      display:flex;\n",
              "      flex-wrap:wrap;\n",
              "      gap: 12px;\n",
              "    }\n",
              "\n",
              "    .colab-df-convert {\n",
              "      background-color: #E8F0FE;\n",
              "      border: none;\n",
              "      border-radius: 50%;\n",
              "      cursor: pointer;\n",
              "      display: none;\n",
              "      fill: #1967D2;\n",
              "      height: 32px;\n",
              "      padding: 0 0 0 0;\n",
              "      width: 32px;\n",
              "    }\n",
              "\n",
              "    .colab-df-convert:hover {\n",
              "      background-color: #E2EBFA;\n",
              "      box-shadow: 0px 1px 2px rgba(60, 64, 67, 0.3), 0px 1px 3px 1px rgba(60, 64, 67, 0.15);\n",
              "      fill: #174EA6;\n",
              "    }\n",
              "\n",
              "    [theme=dark] .colab-df-convert {\n",
              "      background-color: #3B4455;\n",
              "      fill: #D2E3FC;\n",
              "    }\n",
              "\n",
              "    [theme=dark] .colab-df-convert:hover {\n",
              "      background-color: #434B5C;\n",
              "      box-shadow: 0px 1px 3px 1px rgba(0, 0, 0, 0.15);\n",
              "      filter: drop-shadow(0px 1px 2px rgba(0, 0, 0, 0.3));\n",
              "      fill: #FFFFFF;\n",
              "    }\n",
              "  </style>\n",
              "\n",
              "      <script>\n",
              "        const buttonEl =\n",
              "          document.querySelector('#df-74d5e8ce-75c6-4723-a62e-04d785e265d9 button.colab-df-convert');\n",
              "        buttonEl.style.display =\n",
              "          google.colab.kernel.accessAllowed ? 'block' : 'none';\n",
              "\n",
              "        async function convertToInteractive(key) {\n",
              "          const element = document.querySelector('#df-74d5e8ce-75c6-4723-a62e-04d785e265d9');\n",
              "          const dataTable =\n",
              "            await google.colab.kernel.invokeFunction('convertToInteractive',\n",
              "                                                     [key], {});\n",
              "          if (!dataTable) return;\n",
              "\n",
              "          const docLinkHtml = 'Like what you see? Visit the ' +\n",
              "            '<a target=\"_blank\" href=https://colab.research.google.com/notebooks/data_table.ipynb>data table notebook</a>'\n",
              "            + ' to learn more about interactive tables.';\n",
              "          element.innerHTML = '';\n",
              "          dataTable['output_type'] = 'display_data';\n",
              "          await google.colab.output.renderOutput(dataTable, element);\n",
              "          const docLink = document.createElement('div');\n",
              "          docLink.innerHTML = docLinkHtml;\n",
              "          element.appendChild(docLink);\n",
              "        }\n",
              "      </script>\n",
              "    </div>\n",
              "  </div>\n",
              "  "
            ]
          },
          "metadata": {},
          "execution_count": 72
        }
      ],
      "source": [
        "# Check for the null values \n",
        "\n",
        "raw_data_df.isna().apply(pd.value_counts) "
      ]
    },
    {
      "cell_type": "markdown",
      "metadata": {
        "id": "T-m5vhWy7wno"
      },
      "source": [
        "#### Data Exploration\n",
        "Awesome. Finally we have our clean df and can start with our data exploration.\n",
        "Let's get some feel for the data check what Railroad, state, station and county is represented the most and in what month most incidents occur. If you are interested only in the text analysis, feel free so scroll ahead"
      ]
    },
    {
      "cell_type": "code",
      "execution_count": 73,
      "metadata": {
        "id": "d0GIlfMUMj0F",
        "outputId": "9f0ff44e-6c5d-4f4d-e1a7-ddabcf63bdd1",
        "colab": {
          "base_uri": "https://localhost:8080/"
        }
      },
      "outputs": [
        {
          "output_type": "execute_result",
          "data": {
            "text/plain": [
              "KANSAS CITY      48\n",
              "NORTH PLATTE     34\n",
              "CHICAGO          34\n",
              "EAST ST LOUIS    32\n",
              "MELROSE PARK     24\n",
              "                 ..\n",
              "NEWBURG           1\n",
              "AUXIER            1\n",
              "LOTTIE            1\n",
              "HOWARD            1\n",
              "BAKERSFIELD       1\n",
              "Name: STATION, Length: 1030, dtype: int64"
            ]
          },
          "metadata": {},
          "execution_count": 73
        }
      ],
      "source": [
        "raw_data_df['STATION'].value_counts()"
      ]
    },
    {
      "cell_type": "code",
      "execution_count": 74,
      "metadata": {
        "id": "LW_WReXE7wno",
        "outputId": "aa2ae8a7-fc8c-4bf2-d274-269e02b6799c",
        "colab": {
          "base_uri": "https://localhost:8080/"
        }
      },
      "outputs": [
        {
          "output_type": "execute_result",
          "data": {
            "text/plain": [
              "KANSAS CITY      48\n",
              "NORTH PLATTE     34\n",
              "CHICAGO          34\n",
              "EAST ST LOUIS    32\n",
              "MELROSE PARK     24\n",
              "                 ..\n",
              "LORDSBURG         5\n",
              "HANNIBAL          5\n",
              "CHANNELVIEW       5\n",
              "TACOMA            5\n",
              "VANCOUVER         5\n",
              "Name: STATION, Length: 100, dtype: int64"
            ]
          },
          "metadata": {},
          "execution_count": 74
        }
      ],
      "source": [
        "first_100 = raw_data_df['STATION'].value_counts()[:100]\n",
        "first_100"
      ]
    },
    {
      "cell_type": "code",
      "execution_count": 75,
      "metadata": {
        "id": "64E-UooOMj0G",
        "outputId": "6a98f2b8-3697-4c7d-a9b6-5f4b3e6cafa7",
        "colab": {
          "base_uri": "https://localhost:8080/"
        }
      },
      "outputs": [
        {
          "output_type": "execute_result",
          "data": {
            "text/plain": [
              "10.17"
            ]
          },
          "metadata": {},
          "execution_count": 75
        }
      ],
      "source": [
        "#mean incidents per year of 100 biggest stations (cities)\n",
        "first_100.mean()"
      ]
    },
    {
      "cell_type": "code",
      "execution_count": 76,
      "metadata": {
        "id": "H56_uFRg7wnp",
        "outputId": "8e0b6286-ddce-4ae3-c084-ada6078d6472",
        "colab": {
          "base_uri": "https://localhost:8080/"
        }
      },
      "outputs": [
        {
          "output_type": "execute_result",
          "data": {
            "text/plain": [
              "6.9849115884877095"
            ]
          },
          "metadata": {},
          "execution_count": 76
        }
      ],
      "source": [
        "first_100.std()\n",
        "#standard deviation"
      ]
    },
    {
      "cell_type": "code",
      "execution_count": 77,
      "metadata": {
        "id": "kpI8OW1B7wnq",
        "outputId": "8929589a-cd1f-4c80-d79d-27c9b4ab6b6a",
        "colab": {
          "base_uri": "https://localhost:8080/",
          "height": 285
        }
      },
      "outputs": [
        {
          "output_type": "execute_result",
          "data": {
            "text/plain": [
              "<matplotlib.axes._subplots.AxesSubplot at 0x7f6910069810>"
            ]
          },
          "metadata": {},
          "execution_count": 77
        },
        {
          "output_type": "display_data",
          "data": {
            "text/plain": [
              "<Figure size 432x288 with 1 Axes>"
            ],
            "image/png": "[encoded data removed]"
          },
          "metadata": {
            "needs_background": "light"
          }
        }
      ],
      "source": [
        "#months\n",
        "raw_data_df['IMO'].value_counts().plot.bar()"
      ]
    },
    {
      "cell_type": "markdown",
      "metadata": {
        "id": "1pGqxyhj7wnr"
      },
      "source": [
        "Interesting - it seems like january and august have more incidents than the other months. "
      ]
    },
    {
      "cell_type": "code",
      "execution_count": 78,
      "metadata": {
        "id": "C1_Jm30T7wns",
        "outputId": "6f5a8d7c-9c4b-45d9-b1cb-66eed8ac2191",
        "colab": {
          "base_uri": "https://localhost:8080/",
          "height": 503
        }
      },
      "outputs": [
        {
          "output_type": "execute_result",
          "data": {
            "text/plain": [
              "<matplotlib.axes._subplots.AxesSubplot at 0x7f690ffc0d90>"
            ]
          },
          "metadata": {},
          "execution_count": 78
        },
        {
          "output_type": "display_data",
          "data": {
            "text/plain": [
              "<Figure size 864x576 with 1 Axes>"
            ],
            "image/png": "[encoded data removed]"
          },
          "metadata": {
            "needs_background": "light"
          }
        }
      ],
      "source": [
        "plt.figure(figsize=(12,8))\n",
        "raw_data_df['STATE'].value_counts().plot.bar()"
      ]
    },
    {
      "cell_type": "code",
      "execution_count": 79,
      "metadata": {
        "id": "KnzsmUOt7wns",
        "outputId": "8f685aca-7f30-4f8f-c5a5-2132e09a39fa",
        "colab": {
          "base_uri": "https://localhost:8080/"
        }
      },
      "outputs": [
        {
          "output_type": "execute_result",
          "data": {
            "text/plain": [
              "48    282\n",
              "17    235\n",
              "6     154\n",
              "31     91\n",
              "18     87\n",
              "Name: STATE, dtype: int64"
            ]
          },
          "metadata": {},
          "execution_count": 79
        }
      ],
      "source": [
        "#top 5\n",
        "raw_data_df['STATE'].value_counts()[:5]"
      ]
    },
    {
      "cell_type": "markdown",
      "metadata": {
        "id": "VaqTx4z67wnt"
      },
      "source": [
        "I do not know how the states are numbered in this dataset - it does not seem to be alphabetically. Let's check it manually by County\n"
      ]
    },
    {
      "cell_type": "code",
      "execution_count": 80,
      "metadata": {
        "id": "tYQdmabR7wnt",
        "outputId": "e61fd5f7-903f-4fb3-a8d6-3661105c6ce6",
        "colab": {
          "base_uri": "https://localhost:8080/",
          "height": 424
        }
      },
      "outputs": [
        {
          "output_type": "execute_result",
          "data": {
            "text/plain": [
              "      IYR  IMO RAILROAD  STATE        STATION     COUNTY  \\\n",
              "307    19   12     XTGS     48        ANAHUAC   CHAMBERS   \n",
              "308    19    1       UP     48       BEAUMONT  JEFFERSON   \n",
              "309    19   10     TXOR     48     SWEETWATER      NOLAN   \n",
              "310    19   10       UP     48        EL PASO    EL PASO   \n",
              "311    19    8       UP     48        EL PASO    EL PASO   \n",
              "...   ...  ...      ...    ...            ...        ...   \n",
              "2658   19    9     XTGS     48        ANAHUAC   CHAMBERS   \n",
              "2659   19    3       UP     48          TOYAH     REEVES   \n",
              "2660   19    9     XTGS     48        ANAHUAC   CHAMBERS   \n",
              "2661   19    2       UP     48       WHITSETT   LIVE OAK   \n",
              "2662   19    3       UP     48  SIERRA BLANCA   HUDSPETH   \n",
              "\n",
              "                                                   NARR  \n",
              "307   BALLAST WAS FOULING THE TRACK DURING LOADING A...  \n",
              "308   THE YBM05R-07 HAD A HOLD OF 65 CARS IN HUMP OP...  \n",
              "309   TXOR DERAILED 15 LOADED CARS OUT OF 25 LOADED ...  \n",
              "310   MHNTU-24 TRAVELING WEST DERAILED THE TRAILING ...  \n",
              "311   MTUEP-11 WAS SHOVING LIGHT POWER WEST IN 835 T...  \n",
              "...                                                 ...  \n",
              "2658  CREW FAILED TO VERIFY LINING OF CROSSOVER SWIT...  \n",
              "2659  TRAIN ISINSX-03 STRUCK A SEMI TRUCK LOADED WIT...  \n",
              "2660  CREW WAS PULLING CARS OUT OF TRACK 888 IN G-YA...  \n",
              "2661  THE WVJVBR-13 STRUCK A LOADED SEMI OF FRACKING...  \n",
              "2662  ILXMNX-06, UP7496, HIT THE UNOCCUPIED VEHICLE,...  \n",
              "\n",
              "[282 rows x 7 columns]"
            ],
            "text/html": [
              "\n",
              "  <div id=\"df-3290b805-f130-4367-8a2e-232fe9f39db8\">\n",
              "    <div class=\"colab-df-container\">\n",
              "      <div>\n",
              "<style scoped>\n",
              "    .dataframe tbody tr th:only-of-type {\n",
              "        vertical-align: middle;\n",
              "    }\n",
              "\n",
              "    .dataframe tbody tr th {\n",
              "        vertical-align: top;\n",
              "    }\n",
              "\n",
              "    .dataframe thead th {\n",
              "        text-align: right;\n",
              "    }\n",
              "</style>\n",
              "<table border=\"1\" class=\"dataframe\">\n",
              "  <thead>\n",
              "    <tr style=\"text-align: right;\">\n",
              "      <th></th>\n",
              "      <th>IYR</th>\n",
              "      <th>IMO</th>\n",
              "      <th>RAILROAD</th>\n",
              "      <th>STATE</th>\n",
              "      <th>STATION</th>\n",
              "      <th>COUNTY</th>\n",
              "      <th>NARR</th>\n",
              "    </tr>\n",
              "  </thead>\n",
              "  <tbody>\n",
              "    <tr>\n",
              "      <th>307</th>\n",
              "      <td>19</td>\n",
              "      <td>12</td>\n",
              "      <td>XTGS</td>\n",
              "      <td>48</td>\n",
              "      <td>ANAHUAC</td>\n",
              "      <td>CHAMBERS</td>\n",
              "      <td>BALLAST WAS FOULING THE TRACK DURING LOADING A...</td>\n",
              "    </tr>\n",
              "    <tr>\n",
              "      <th>308</th>\n",
              "      <td>19</td>\n",
              "      <td>1</td>\n",
              "      <td>UP</td>\n",
              "      <td>48</td>\n",
              "      <td>BEAUMONT</td>\n",
              "      <td>JEFFERSON</td>\n",
              "      <td>THE YBM05R-07 HAD A HOLD OF 65 CARS IN HUMP OP...</td>\n",
              "    </tr>\n",
              "    <tr>\n",
              "      <th>309</th>\n",
              "      <td>19</td>\n",
              "      <td>10</td>\n",
              "      <td>TXOR</td>\n",
              "      <td>48</td>\n",
              "      <td>SWEETWATER</td>\n",
              "      <td>NOLAN</td>\n",
              "      <td>TXOR DERAILED 15 LOADED CARS OUT OF 25 LOADED ...</td>\n",
              "    </tr>\n",
              "    <tr>\n",
              "      <th>310</th>\n",
              "      <td>19</td>\n",
              "      <td>10</td>\n",
              "      <td>UP</td>\n",
              "      <td>48</td>\n",
              "      <td>EL PASO</td>\n",
              "      <td>EL PASO</td>\n",
              "      <td>MHNTU-24 TRAVELING WEST DERAILED THE TRAILING ...</td>\n",
              "    </tr>\n",
              "    <tr>\n",
              "      <th>311</th>\n",
              "      <td>19</td>\n",
              "      <td>8</td>\n",
              "      <td>UP</td>\n",
              "      <td>48</td>\n",
              "      <td>EL PASO</td>\n",
              "      <td>EL PASO</td>\n",
              "      <td>MTUEP-11 WAS SHOVING LIGHT POWER WEST IN 835 T...</td>\n",
              "    </tr>\n",
              "    <tr>\n",
              "      <th>...</th>\n",
              "      <td>...</td>\n",
              "      <td>...</td>\n",
              "      <td>...</td>\n",
              "      <td>...</td>\n",
              "      <td>...</td>\n",
              "      <td>...</td>\n",
              "      <td>...</td>\n",
              "    </tr>\n",
              "    <tr>\n",
              "      <th>2658</th>\n",
              "      <td>19</td>\n",
              "      <td>9</td>\n",
              "      <td>XTGS</td>\n",
              "      <td>48</td>\n",
              "      <td>ANAHUAC</td>\n",
              "      <td>CHAMBERS</td>\n",
              "      <td>CREW FAILED TO VERIFY LINING OF CROSSOVER SWIT...</td>\n",
              "    </tr>\n",
              "    <tr>\n",
              "      <th>2659</th>\n",
              "      <td>19</td>\n",
              "      <td>3</td>\n",
              "      <td>UP</td>\n",
              "      <td>48</td>\n",
              "      <td>TOYAH</td>\n",
              "      <td>REEVES</td>\n",
              "      <td>TRAIN ISINSX-03 STRUCK A SEMI TRUCK LOADED WIT...</td>\n",
              "    </tr>\n",
              "    <tr>\n",
              "      <th>2660</th>\n",
              "      <td>19</td>\n",
              "      <td>9</td>\n",
              "      <td>XTGS</td>\n",
              "      <td>48</td>\n",
              "      <td>ANAHUAC</td>\n",
              "      <td>CHAMBERS</td>\n",
              "      <td>CREW WAS PULLING CARS OUT OF TRACK 888 IN G-YA...</td>\n",
              "    </tr>\n",
              "    <tr>\n",
              "      <th>2661</th>\n",
              "      <td>19</td>\n",
              "      <td>2</td>\n",
              "      <td>UP</td>\n",
              "      <td>48</td>\n",
              "      <td>WHITSETT</td>\n",
              "      <td>LIVE OAK</td>\n",
              "      <td>THE WVJVBR-13 STRUCK A LOADED SEMI OF FRACKING...</td>\n",
              "    </tr>\n",
              "    <tr>\n",
              "      <th>2662</th>\n",
              "      <td>19</td>\n",
              "      <td>3</td>\n",
              "      <td>UP</td>\n",
              "      <td>48</td>\n",
              "      <td>SIERRA BLANCA</td>\n",
              "      <td>HUDSPETH</td>\n",
              "      <td>ILXMNX-06, UP7496, HIT THE UNOCCUPIED VEHICLE,...</td>\n",
              "    </tr>\n",
              "  </tbody>\n",
              "</table>\n",
              "<p>282 rows × 7 columns</p>\n",
              "</div>\n",
              "      <button class=\"colab-df-convert\" onclick=\"convertToInteractive('df-3290b805-f130-4367-8a2e-232fe9f39db8')\"\n",
              "              title=\"Convert this dataframe to an interactive table.\"\n",
              "              style=\"display:none;\">\n",
              "        \n",
              "  <svg xmlns=\"http://www.w3.org/2000/svg\" height=\"24px\"viewBox=\"0 0 24 24\"\n",
              "       width=\"24px\">\n",
              "    <path d=\"M0 0h24v24H0V0z\" fill=\"none\"/>\n",
              "    <path d=\"M18.56 5.44l.94 2.06.94-2.06 2.06-.94-2.06-.94-.94-2.06-.94 2.06-2.06.94zm-11 1L8.5 8.5l.94-2.06 2.06-.94-2.06-.94L8.5 2.5l-.94 2.06-2.06.94zm10 10l.94 2.06.94-2.06 2.06-.94-2.06-.94-.94-2.06-.94 2.06-2.06.94z\"/><path d=\"M17.41 7.96l-1.37-1.37c-.4-.4-.92-.59-1.43-.59-.52 0-1.04.2-1.43.59L10.3 9.45l-7.72 7.72c-.78.78-.78 2.05 0 2.83L4 21.41c.39.39.9.59 1.41.59.51 0 1.02-.2 1.41-.59l7.78-7.78 2.81-2.81c.8-.78.8-2.07 0-2.86zM5.41 20L4 18.59l7.72-7.72 1.47 1.35L5.41 20z\"/>\n",
              "  </svg>\n",
              "      </button>\n",
              "      \n",
              "  <style>\n",
              "    .colab-df-container {\n",
              "      display:flex;\n",
              "      flex-wrap:wrap;\n",
              "      gap: 12px;\n",
              "    }\n",
              "\n",
              "    .colab-df-convert {\n",
              "      background-color: #E8F0FE;\n",
              "      border: none;\n",
              "      border-radius: 50%;\n",
              "      cursor: pointer;\n",
              "      display: none;\n",
              "      fill: #1967D2;\n",
              "      height: 32px;\n",
              "      padding: 0 0 0 0;\n",
              "      width: 32px;\n",
              "    }\n",
              "\n",
              "    .colab-df-convert:hover {\n",
              "      background-color: #E2EBFA;\n",
              "      box-shadow: 0px 1px 2px rgba(60, 64, 67, 0.3), 0px 1px 3px 1px rgba(60, 64, 67, 0.15);\n",
              "      fill: #174EA6;\n",
              "    }\n",
              "\n",
              "    [theme=dark] .colab-df-convert {\n",
              "      background-color: #3B4455;\n",
              "      fill: #D2E3FC;\n",
              "    }\n",
              "\n",
              "    [theme=dark] .colab-df-convert:hover {\n",
              "      background-color: #434B5C;\n",
              "      box-shadow: 0px 1px 3px 1px rgba(0, 0, 0, 0.15);\n",
              "      filter: drop-shadow(0px 1px 2px rgba(0, 0, 0, 0.3));\n",
              "      fill: #FFFFFF;\n",
              "    }\n",
              "  </style>\n",
              "\n",
              "      <script>\n",
              "        const buttonEl =\n",
              "          document.querySelector('#df-3290b805-f130-4367-8a2e-232fe9f39db8 button.colab-df-convert');\n",
              "        buttonEl.style.display =\n",
              "          google.colab.kernel.accessAllowed ? 'block' : 'none';\n",
              "\n",
              "        async function convertToInteractive(key) {\n",
              "          const element = document.querySelector('#df-3290b805-f130-4367-8a2e-232fe9f39db8');\n",
              "          const dataTable =\n",
              "            await google.colab.kernel.invokeFunction('convertToInteractive',\n",
              "                                                     [key], {});\n",
              "          if (!dataTable) return;\n",
              "\n",
              "          const docLinkHtml = 'Like what you see? Visit the ' +\n",
              "            '<a target=\"_blank\" href=https://colab.research.google.com/notebooks/data_table.ipynb>data table notebook</a>'\n",
              "            + ' to learn more about interactive tables.';\n",
              "          element.innerHTML = '';\n",
              "          dataTable['output_type'] = 'display_data';\n",
              "          await google.colab.output.renderOutput(dataTable, element);\n",
              "          const docLink = document.createElement('div');\n",
              "          docLink.innerHTML = docLinkHtml;\n",
              "          element.appendChild(docLink);\n",
              "        }\n",
              "      </script>\n",
              "    </div>\n",
              "  </div>\n",
              "  "
            ]
          },
          "metadata": {},
          "execution_count": 80
        }
      ],
      "source": [
        "raw_data_df[raw_data_df['STATE'] == 48]"
      ]
    },
    {
      "cell_type": "markdown",
      "metadata": {
        "id": "TlKRHd0E7wnu"
      },
      "source": [
        "#### Looking at some of the states\n",
        "\n",
        "48: Texas\n",
        "\n",
        "17: Illinois\n",
        "\n",
        "6: California\n",
        "\n",
        "2: Alaska (not surprising)\n"
      ]
    },
    {
      "cell_type": "code",
      "execution_count": 81,
      "metadata": {
        "id": "op5hVBk47wnu",
        "outputId": "5b3876d6-2b4c-4c36-f8a4-41f5436a33b9",
        "colab": {
          "base_uri": "https://localhost:8080/"
        }
      },
      "outputs": [
        {
          "output_type": "execute_result",
          "data": {
            "text/plain": [
              "COOK           106\n",
              "JEFFERSON       65\n",
              "LINCOLN         43\n",
              "ST CLAIR        38\n",
              "HARRIS          37\n",
              "JACKSON         32\n",
              "LOS ANGELES     31\n",
              "TARRANT         27\n",
              "WYANDOTTE       26\n",
              "MARION          26\n",
              "Name: COUNTY, dtype: int64"
            ]
          },
          "metadata": {},
          "execution_count": 81
        }
      ],
      "source": [
        "raw_data_df['COUNTY'].value_counts()[:10]"
      ]
    },
    {
      "cell_type": "markdown",
      "metadata": {
        "id": "E9DckD6B7wnv"
      },
      "source": [
        "Cook County is only the second most populous county in the states after LA - but has almost 4 times as many incidents as LA. However, Illinois has more railway track (9,982 miles) compared to Californias 6863 miles"
      ]
    },
    {
      "cell_type": "code",
      "execution_count": 82,
      "metadata": {
        "id": "LLHqQLUQ7wnv",
        "outputId": "4716febf-1934-44c5-80c9-f02f3c99d724",
        "colab": {
          "base_uri": "https://localhost:8080/"
        }
      },
      "outputs": [
        {
          "output_type": "execute_result",
          "data": {
            "text/plain": [
              "KANSAS CITY      48\n",
              "NORTH PLATTE     34\n",
              "CHICAGO          34\n",
              "EAST ST LOUIS    32\n",
              "MELROSE PARK     24\n",
              "HOUSTON          22\n",
              "DAYTON           22\n",
              "FORT WORTH       17\n",
              "NASHVILLE        17\n",
              "OGDEN            15\n",
              "Name: STATION, dtype: int64"
            ]
          },
          "metadata": {},
          "execution_count": 82
        }
      ],
      "source": [
        "raw_data_df['STATION'].value_counts()[:10]"
      ]
    },
    {
      "cell_type": "markdown",
      "metadata": {
        "id": "QEpqa5D97wnw"
      },
      "source": [
        "Wow - Kansas City in Missouri (which does not even come up in the top 5 states with most incidents) leads the table with 48 incidents in 2019. NORTH PLATTE in Nebraska is second (#5 in our list above of top 5 states). Chicago is in Illinois (#2). Melrose Park (Illinois), East St Louis (Illinois)."
      ]
    },
    {
      "cell_type": "code",
      "execution_count": 83,
      "metadata": {
        "id": "Ml1sigTQ7wnw",
        "outputId": "88840455-2a22-414e-a951-954a07e7b3f9",
        "colab": {
          "base_uri": "https://localhost:8080/"
        }
      },
      "outputs": [
        {
          "output_type": "execute_result",
          "data": {
            "text/plain": [
              "UP      689\n",
              "BNSF    403\n",
              "NS      309\n",
              "CSX     204\n",
              "ATK     119\n",
              "Name: RAILROAD, dtype: int64"
            ]
          },
          "metadata": {},
          "execution_count": 83
        }
      ],
      "source": [
        "raw_data_df['RAILROAD'].value_counts()[:5]"
      ]
    },
    {
      "cell_type": "markdown",
      "metadata": {
        "id": "RTWoq5M27wnx"
      },
      "source": [
        "it seems like UP (Union Pacific) has the most incidents. But maybe they just have more miles than the other companies. I have googled how many track miles each company has \n",
        "\n",
        "UP      32,100 miles\n",
        "BNSF    32,500 miles \n",
        "NS      20,000 miles\n",
        "CSX     21,000 miles\n"
      ]
    },
    {
      "cell_type": "code",
      "execution_count": 84,
      "metadata": {
        "id": "sPP50_QD7wnz"
      },
      "outputs": [],
      "source": [
        "# I am storing the number of incidents and the railroad miles in lists\n",
        "railroad_incidents = [689, 403, 309, 204]\n",
        "railroad_miles = [32100, 32500, 20000, 21000]"
      ]
    },
    {
      "cell_type": "code",
      "execution_count": 85,
      "metadata": {
        "id": "tpom08bo7wnz"
      },
      "outputs": [],
      "source": [
        "import matplotlib.pyplot as plt\n",
        "# if uising a Jupyter notebook, include:\n",
        "%matplotlib inline"
      ]
    },
    {
      "cell_type": "code",
      "execution_count": 86,
      "metadata": {
        "id": "Kqoy-Eeq7wn0",
        "outputId": "b1a71221-610f-48ee-8887-7f01628b2e9d",
        "colab": {
          "base_uri": "https://localhost:8080/",
          "height": 265
        }
      },
      "outputs": [
        {
          "output_type": "display_data",
          "data": {
            "text/plain": [
              "<Figure size 432x288 with 1 Axes>"
            ],
            "image/png": "[encoded data removed]"
          },
          "metadata": {
            "needs_background": "light"
          }
        }
      ],
      "source": [
        "#lets plot number of incidents and track miles\n",
        "fig, ax = plt.subplots()\n",
        "ax.scatter(railroad_miles,railroad_incidents)\n",
        "\n",
        "plt.show()\n"
      ]
    },
    {
      "cell_type": "markdown",
      "metadata": {
        "id": "1WXv-rFY7wn0"
      },
      "source": [
        "We can see that UP is clearly an outlier compared to the other 3 railroads when comparing incident number to railroad miles"
      ]
    },
    {
      "cell_type": "markdown",
      "metadata": {
        "id": "EDfeV9rH7wn0"
      },
      "source": [
        "#### Kansas City as example\n",
        "Out of curiosity I will have a look at the incidents in kansas city and save it in a new dataframe kansas_df"
      ]
    },
    {
      "cell_type": "code",
      "execution_count": 87,
      "metadata": {
        "id": "z_3nnrXg7wn0"
      },
      "outputs": [],
      "source": [
        "kansas_df = raw_data_df[raw_data_df['STATION'] == \"KANSAS CITY\"]"
      ]
    },
    {
      "cell_type": "code",
      "execution_count": 88,
      "metadata": {
        "id": "9Y6iXgrh7wn1",
        "outputId": "bf30f546-efae-4af7-e316-94b7aec83efc",
        "colab": {
          "base_uri": "https://localhost:8080/",
          "height": 206
        }
      },
      "outputs": [
        {
          "output_type": "execute_result",
          "data": {
            "text/plain": [
              "    IYR  IMO RAILROAD  STATE      STATION     COUNTY  \\\n",
              "18   19    8      KCT     20  KANSAS CITY  WYANDOTTE   \n",
              "36   19    2       UP     29  KANSAS CITY    JACKSON   \n",
              "37   19    2      KCS     29  KANSAS CITY    JACKSON   \n",
              "38   19    2      KCS     29  KANSAS CITY    JACKSON   \n",
              "41   19   12      KCS     29  KANSAS CITY    JACKSON   \n",
              "\n",
              "                                                 NARR  \n",
              "18  CREW ON UP TRAIN MNPINP-19 USING KCT MAIN LINE...  \n",
              "36  THE YKC20R-25 WAS HUMPING A CUT OF 100 CARS OF...  \n",
              "37  CREW FAILED TO LINE BOTH ENDS OF CROSSOVER FRO...  \n",
              "38  CPRS CREW FAILED TO SECURE TRACK 9 & THEY KICK...  \n",
              "41  BNSF CREW RAN THRU 126 SWITCH & THEN SHOVED BA...  "
            ],
            "text/html": [
              "\n",
              "  <div id=\"df-c0656065-d0c5-4072-a40d-f76afc288a4c\">\n",
              "    <div class=\"colab-df-container\">\n",
              "      <div>\n",
              "<style scoped>\n",
              "    .dataframe tbody tr th:only-of-type {\n",
              "        vertical-align: middle;\n",
              "    }\n",
              "\n",
              "    .dataframe tbody tr th {\n",
              "        vertical-align: top;\n",
              "    }\n",
              "\n",
              "    .dataframe thead th {\n",
              "        text-align: right;\n",
              "    }\n",
              "</style>\n",
              "<table border=\"1\" class=\"dataframe\">\n",
              "  <thead>\n",
              "    <tr style=\"text-align: right;\">\n",
              "      <th></th>\n",
              "      <th>IYR</th>\n",
              "      <th>IMO</th>\n",
              "      <th>RAILROAD</th>\n",
              "      <th>STATE</th>\n",
              "      <th>STATION</th>\n",
              "      <th>COUNTY</th>\n",
              "      <th>NARR</th>\n",
              "    </tr>\n",
              "  </thead>\n",
              "  <tbody>\n",
              "    <tr>\n",
              "      <th>18</th>\n",
              "      <td>19</td>\n",
              "      <td>8</td>\n",
              "      <td>KCT</td>\n",
              "      <td>20</td>\n",
              "      <td>KANSAS CITY</td>\n",
              "      <td>WYANDOTTE</td>\n",
              "      <td>CREW ON UP TRAIN MNPINP-19 USING KCT MAIN LINE...</td>\n",
              "    </tr>\n",
              "    <tr>\n",
              "      <th>36</th>\n",
              "      <td>19</td>\n",
              "      <td>2</td>\n",
              "      <td>UP</td>\n",
              "      <td>29</td>\n",
              "      <td>KANSAS CITY</td>\n",
              "      <td>JACKSON</td>\n",
              "      <td>THE YKC20R-25 WAS HUMPING A CUT OF 100 CARS OF...</td>\n",
              "    </tr>\n",
              "    <tr>\n",
              "      <th>37</th>\n",
              "      <td>19</td>\n",
              "      <td>2</td>\n",
              "      <td>KCS</td>\n",
              "      <td>29</td>\n",
              "      <td>KANSAS CITY</td>\n",
              "      <td>JACKSON</td>\n",
              "      <td>CREW FAILED TO LINE BOTH ENDS OF CROSSOVER FRO...</td>\n",
              "    </tr>\n",
              "    <tr>\n",
              "      <th>38</th>\n",
              "      <td>19</td>\n",
              "      <td>2</td>\n",
              "      <td>KCS</td>\n",
              "      <td>29</td>\n",
              "      <td>KANSAS CITY</td>\n",
              "      <td>JACKSON</td>\n",
              "      <td>CPRS CREW FAILED TO SECURE TRACK 9 &amp; THEY KICK...</td>\n",
              "    </tr>\n",
              "    <tr>\n",
              "      <th>41</th>\n",
              "      <td>19</td>\n",
              "      <td>12</td>\n",
              "      <td>KCS</td>\n",
              "      <td>29</td>\n",
              "      <td>KANSAS CITY</td>\n",
              "      <td>JACKSON</td>\n",
              "      <td>BNSF CREW RAN THRU 126 SWITCH &amp; THEN SHOVED BA...</td>\n",
              "    </tr>\n",
              "  </tbody>\n",
              "</table>\n",
              "</div>\n",
              "      <button class=\"colab-df-convert\" onclick=\"convertToInteractive('df-c0656065-d0c5-4072-a40d-f76afc288a4c')\"\n",
              "              title=\"Convert this dataframe to an interactive table.\"\n",
              "              style=\"display:none;\">\n",
              "        \n",
              "  <svg xmlns=\"http://www.w3.org/2000/svg\" height=\"24px\"viewBox=\"0 0 24 24\"\n",
              "       width=\"24px\">\n",
              "    <path d=\"M0 0h24v24H0V0z\" fill=\"none\"/>\n",
              "    <path d=\"M18.56 5.44l.94 2.06.94-2.06 2.06-.94-2.06-.94-.94-2.06-.94 2.06-2.06.94zm-11 1L8.5 8.5l.94-2.06 2.06-.94-2.06-.94L8.5 2.5l-.94 2.06-2.06.94zm10 10l.94 2.06.94-2.06 2.06-.94-2.06-.94-.94-2.06-.94 2.06-2.06.94z\"/><path d=\"M17.41 7.96l-1.37-1.37c-.4-.4-.92-.59-1.43-.59-.52 0-1.04.2-1.43.59L10.3 9.45l-7.72 7.72c-.78.78-.78 2.05 0 2.83L4 21.41c.39.39.9.59 1.41.59.51 0 1.02-.2 1.41-.59l7.78-7.78 2.81-2.81c.8-.78.8-2.07 0-2.86zM5.41 20L4 18.59l7.72-7.72 1.47 1.35L5.41 20z\"/>\n",
              "  </svg>\n",
              "      </button>\n",
              "      \n",
              "  <style>\n",
              "    .colab-df-container {\n",
              "      display:flex;\n",
              "      flex-wrap:wrap;\n",
              "      gap: 12px;\n",
              "    }\n",
              "\n",
              "    .colab-df-convert {\n",
              "      background-color: #E8F0FE;\n",
              "      border: none;\n",
              "      border-radius: 50%;\n",
              "      cursor: pointer;\n",
              "      display: none;\n",
              "      fill: #1967D2;\n",
              "      height: 32px;\n",
              "      padding: 0 0 0 0;\n",
              "      width: 32px;\n",
              "    }\n",
              "\n",
              "    .colab-df-convert:hover {\n",
              "      background-color: #E2EBFA;\n",
              "      box-shadow: 0px 1px 2px rgba(60, 64, 67, 0.3), 0px 1px 3px 1px rgba(60, 64, 67, 0.15);\n",
              "      fill: #174EA6;\n",
              "    }\n",
              "\n",
              "    [theme=dark] .colab-df-convert {\n",
              "      background-color: #3B4455;\n",
              "      fill: #D2E3FC;\n",
              "    }\n",
              "\n",
              "    [theme=dark] .colab-df-convert:hover {\n",
              "      background-color: #434B5C;\n",
              "      box-shadow: 0px 1px 3px 1px rgba(0, 0, 0, 0.15);\n",
              "      filter: drop-shadow(0px 1px 2px rgba(0, 0, 0, 0.3));\n",
              "      fill: #FFFFFF;\n",
              "    }\n",
              "  </style>\n",
              "\n",
              "      <script>\n",
              "        const buttonEl =\n",
              "          document.querySelector('#df-c0656065-d0c5-4072-a40d-f76afc288a4c button.colab-df-convert');\n",
              "        buttonEl.style.display =\n",
              "          google.colab.kernel.accessAllowed ? 'block' : 'none';\n",
              "\n",
              "        async function convertToInteractive(key) {\n",
              "          const element = document.querySelector('#df-c0656065-d0c5-4072-a40d-f76afc288a4c');\n",
              "          const dataTable =\n",
              "            await google.colab.kernel.invokeFunction('convertToInteractive',\n",
              "                                                     [key], {});\n",
              "          if (!dataTable) return;\n",
              "\n",
              "          const docLinkHtml = 'Like what you see? Visit the ' +\n",
              "            '<a target=\"_blank\" href=https://colab.research.google.com/notebooks/data_table.ipynb>data table notebook</a>'\n",
              "            + ' to learn more about interactive tables.';\n",
              "          element.innerHTML = '';\n",
              "          dataTable['output_type'] = 'display_data';\n",
              "          await google.colab.output.renderOutput(dataTable, element);\n",
              "          const docLink = document.createElement('div');\n",
              "          docLink.innerHTML = docLinkHtml;\n",
              "          element.appendChild(docLink);\n",
              "        }\n",
              "      </script>\n",
              "    </div>\n",
              "  </div>\n",
              "  "
            ]
          },
          "metadata": {},
          "execution_count": 88
        }
      ],
      "source": [
        "kansas_df.head()\n",
        "#dataframe that only contains incidents that happened in Kansas"
      ]
    },
    {
      "cell_type": "code",
      "execution_count": 89,
      "metadata": {
        "id": "O2nUHe5N7wn1",
        "outputId": "f67b7e4b-60ef-4e35-e61c-443c272cc3a3",
        "colab": {
          "base_uri": "https://localhost:8080/",
          "height": 285
        }
      },
      "outputs": [
        {
          "output_type": "execute_result",
          "data": {
            "text/plain": [
              "<matplotlib.axes._subplots.AxesSubplot at 0x7f690fa8c4d0>"
            ]
          },
          "metadata": {},
          "execution_count": 89
        },
        {
          "output_type": "display_data",
          "data": {
            "text/plain": [
              "<Figure size 432x288 with 1 Axes>"
            ],
            "image/png": "[encoded data removed]"
          },
          "metadata": {
            "needs_background": "light"
          }
        }
      ],
      "source": [
        "kansas_df['STATE'].value_counts().plot.bar()"
      ]
    },
    {
      "cell_type": "markdown",
      "metadata": {
        "id": "41qtG9697wn1"
      },
      "source": [
        "Not sure why they divide Kansas into Kansas and Missouri if the station is the same - but it does not really matter. Given there are 49 incidents in Kansas, we see in the table with the counties with the most incidents that Jackson and Wyandotte have 58 incidents, hence only 11 outside of Kansas City. "
      ]
    },
    {
      "cell_type": "code",
      "execution_count": 90,
      "metadata": {
        "id": "B2E0weU77wn1",
        "outputId": "bfe98714-70de-4a5f-86ef-6327aa71e301",
        "colab": {
          "base_uri": "https://localhost:8080/",
          "height": 300
        }
      },
      "outputs": [
        {
          "output_type": "execute_result",
          "data": {
            "text/plain": [
              "<matplotlib.axes._subplots.AxesSubplot at 0x7f690fa162d0>"
            ]
          },
          "metadata": {},
          "execution_count": 90
        },
        {
          "output_type": "display_data",
          "data": {
            "text/plain": [
              "<Figure size 432x288 with 1 Axes>"
            ],
            "image/png": "[encoded data removed]"
          },
          "metadata": {
            "needs_background": "light"
          }
        }
      ],
      "source": [
        "kansas_df['RAILROAD'].value_counts().plot.bar()"
      ]
    },
    {
      "cell_type": "markdown",
      "metadata": {
        "id": "Fg8W3Flh7wn2"
      },
      "source": [
        "Ha - we can see that again, UP is overrepresented with incidents. accoriding to this map https://www.ksdot.org/Assets/wwwksdotorg/bureaus/burRail/Rail/publications/KansasRailroadMap2019.pdf  UP only has 300 miles more than BNSF but almost 3 times as many incidents.\n",
        "\n",
        "It will be interesting to check the incidents texts. Let's finally dive in and check the incidents texts. First for Kansas City only. lets subdivide the kansas dataframe further into a dataframe for UP and a dataframe for the rest"
      ]
    },
    {
      "cell_type": "code",
      "execution_count": 91,
      "metadata": {
        "id": "di7vFrGI7wn2"
      },
      "outputs": [],
      "source": [
        "kansas_up_df = kansas_df[kansas_df['RAILROAD'] == \"UP\"]"
      ]
    },
    {
      "cell_type": "code",
      "execution_count": 92,
      "metadata": {
        "id": "Rp97apS77wn3"
      },
      "outputs": [],
      "source": [
        "kansas_rr_rest_df = kansas_df[kansas_df['RAILROAD'] != \"UP\"]"
      ]
    },
    {
      "cell_type": "markdown",
      "metadata": {
        "id": "7JejYjJHMj0T"
      },
      "source": [
        "In week 3, you will use this knowledge about data exploration of text data to find the most frequent words in a text and build Word Clouds."
      ]
    },
    {
      "cell_type": "markdown",
      "metadata": {
        "id": "1USGrcax7wn3"
      },
      "source": [
        "#### Some Text Preprocessing\n",
        "\n",
        "Below you see a function which I have copy pasted from one of my own projects. it's my typical go-to text preprocessing function where I delete all stopwords symbols apart from letters, convert the text into lower case and stem or lemmatise the words.\n",
        "\n",
        "Stopwords: A stop word is a commonly used word (such as “the”, “a”, “an”, “in”). We would not want these words to take up space in our dataset, or taking up valuable processing time. Also, wenn looking for common words in our dataset, finding out that \"a\" is the most common, is not particularly interesting\n",
        "\n",
        "Lemmatising: Lemmatisation (or lemmatization) in linguistics is the process of grouping together the inflected forms of a word so they can be analysed as a single item, identified by the word's lemma, or dictionary form.\n",
        "\n",
        "Loved -> love\n",
        "\n",
        "Stemming: In linguistic morphology and information retrieval, stemming is the process of reducing inflected (or sometimes derived) words to their word stem, base or root form—generally a written word form\n",
        "\n",
        "Loved -> lov"
      ]
    },
    {
      "cell_type": "code",
      "execution_count": 93,
      "metadata": {
        "id": "efpxllG0Mj0V",
        "outputId": "a563fcdf-688b-4aec-dc5d-f7101d757588",
        "colab": {
          "base_uri": "https://localhost:8080/"
        }
      },
      "outputs": [
        {
          "output_type": "stream",
          "name": "stdout",
          "text": [
            "Looking in indexes: https://pypi.org/simple, https://us-python.pkg.dev/colab-wheels/public/simple/\n",
            "Requirement already satisfied: nltk in /usr/local/lib/python3.7/dist-packages (3.7)\n",
            "Requirement already satisfied: joblib in /usr/local/lib/python3.7/dist-packages (from nltk) (1.2.0)\n",
            "Requirement already satisfied: tqdm in /usr/local/lib/python3.7/dist-packages (from nltk) (4.64.1)\n",
            "Requirement already satisfied: regex>=2021.8.3 in /usr/local/lib/python3.7/dist-packages (from nltk) (2022.6.2)\n",
            "Requirement already satisfied: click in /usr/local/lib/python3.7/dist-packages (from nltk) (7.1.2)\n"
          ]
        }
      ],
      "source": [
        "pip install nltk"
      ]
    },
    {
      "cell_type": "code",
      "execution_count": 94,
      "metadata": {
        "id": "IoEAJYeIMj0V",
        "outputId": "cb11f096-4811-49e0-da31-cdc1fff12401",
        "colab": {
          "base_uri": "https://localhost:8080/"
        }
      },
      "outputs": [
        {
          "output_type": "stream",
          "name": "stdout",
          "text": [
            "Looking in indexes: https://pypi.org/simple, https://us-python.pkg.dev/colab-wheels/public/simple/\n",
            "Requirement already satisfied: wordcloud in /usr/local/lib/python3.7/dist-packages (1.8.2.2)\n",
            "Requirement already satisfied: pillow in /usr/local/lib/python3.7/dist-packages (from wordcloud) (7.1.2)\n",
            "Requirement already satisfied: matplotlib in /usr/local/lib/python3.7/dist-packages (from wordcloud) (3.2.2)\n",
            "Requirement already satisfied: numpy>=1.6.1 in /usr/local/lib/python3.7/dist-packages (from wordcloud) (1.21.6)\n",
            "Requirement already satisfied: kiwisolver>=1.0.1 in /usr/local/lib/python3.7/dist-packages (from matplotlib->wordcloud) (1.4.4)\n",
            "Requirement already satisfied: pyparsing!=2.0.4,!=2.1.2,!=2.1.6,>=2.0.1 in /usr/local/lib/python3.7/dist-packages (from matplotlib->wordcloud) (3.0.9)\n",
            "Requirement already satisfied: python-dateutil>=2.1 in /usr/local/lib/python3.7/dist-packages (from matplotlib->wordcloud) (2.8.2)\n",
            "Requirement already satisfied: cycler>=0.10 in /usr/local/lib/python3.7/dist-packages (from matplotlib->wordcloud) (0.11.0)\n",
            "Requirement already satisfied: typing-extensions in /usr/local/lib/python3.7/dist-packages (from kiwisolver>=1.0.1->matplotlib->wordcloud) (4.1.1)\n",
            "Requirement already satisfied: six>=1.5 in /usr/local/lib/python3.7/dist-packages (from python-dateutil>=2.1->matplotlib->wordcloud) (1.15.0)\n"
          ]
        }
      ],
      "source": [
        "pip install wordcloud"
      ]
    },
    {
      "cell_type": "code",
      "execution_count": 97,
      "metadata": {
        "id": "NLQqo8DEMj0W",
        "outputId": "48ccd476-0fe5-4293-9daf-9675bf7faaba",
        "colab": {
          "base_uri": "https://localhost:8080/"
        }
      },
      "outputs": [
        {
          "output_type": "stream",
          "name": "stderr",
          "text": [
            "[nltk_data] Downloading package stopwords to /root/nltk_data...\n",
            "[nltk_data]   Package stopwords is already up-to-date!\n"
          ]
        }
      ],
      "source": [
        "from wordcloud import WordCloud\n",
        "import nltk\n",
        "stopwords = nltk.download('stopwords')"
      ]
    },
    {
      "cell_type": "code",
      "execution_count": 102,
      "metadata": {
        "id": "ZcchoBy9Mj0W",
        "outputId": "e1b9bb95-e447-4627-ee01-79664ed7598a",
        "colab": {
          "base_uri": "https://localhost:8080/",
          "height": 166
        }
      },
      "outputs": [
        {
          "output_type": "error",
          "ename": "AttributeError",
          "evalue": "ignored",
          "traceback": [
            "\u001b[0;31m---------------------------------------------------------------------------\u001b[0m",
            "\u001b[0;31mAttributeError\u001b[0m                            Traceback (most recent call last)",
            "\u001b[0;32m<ipython-input-102-5aa920e4bb8a>\u001b[0m in \u001b[0;36m<module>\u001b[0;34m\u001b[0m\n\u001b[0;32m----> 1\u001b[0;31m \u001b[0mstop_words\u001b[0m \u001b[0;34m=\u001b[0m \u001b[0mset\u001b[0m\u001b[0;34m(\u001b[0m\u001b[0mstopwords\u001b[0m\u001b[0;34m.\u001b[0m\u001b[0mwords\u001b[0m\u001b[0;34m(\u001b[0m\u001b[0;34m\"english\"\u001b[0m\u001b[0;34m)\u001b[0m\u001b[0;34m)\u001b[0m\u001b[0;34m\u001b[0m\u001b[0;34m\u001b[0m\u001b[0m\n\u001b[0m",
            "\u001b[0;31mAttributeError\u001b[0m: 'bool' object has no attribute 'words'"
          ]
        }
      ],
      "source": [
        "stop_words = set(stopwords.words(\"english\"))"
      ]
    },
    {
      "cell_type": "code",
      "execution_count": 99,
      "metadata": {
        "id": "8SRcDUQI7woC"
      },
      "outputs": [],
      "source": [
        "import re #importing regular expressions or RegEx\n",
        "from nltk.stem import WordNetLemmatizer, PorterStemmer, SnowballStemmer \n",
        "\n",
        "def preprocess(raw_text):\n",
        "    \n",
        "    #regular expression keeping only letters - more on them later\n",
        "    letters_only_text = re.sub(\"[^a-zA-Z]\", \" \", raw_text)\n",
        "\n",
        "    # convert to lower case and split into words -> convert string into list ( 'hello world' -> ['hello', 'world'])\n",
        "    words = letters_only_text.lower().split()\n",
        "\n",
        "    cleaned_words = []\n",
        "    lemmatizer = PorterStemmer()\n",
        "    \n",
        "    # remove stopwords\n",
        "    for word in words:\n",
        "        if word not in stop_words:\n",
        "            cleaned_words.append(word)\n",
        "    \n",
        "    # stemm or lemmatise words\n",
        "    stemmed_words = []\n",
        "    for word in cleaned_words:\n",
        "        word = lemmatizer.stem(word)\n",
        "        stemmed_words.append(word)\n",
        "    \n",
        "    # converting list back to string\n",
        "    return \" \".join(stemmed_words)"
      ]
    },
    {
      "cell_type": "code",
      "execution_count": 100,
      "metadata": {
        "id": "nprLaPcK7woD",
        "outputId": "971d7b31-9afe-48c5-8953-17e2227647aa",
        "colab": {
          "base_uri": "https://localhost:8080/",
          "height": 322
        }
      },
      "outputs": [
        {
          "output_type": "error",
          "ename": "NameError",
          "evalue": "ignored",
          "traceback": [
            "\u001b[0;31m---------------------------------------------------------------------------\u001b[0m",
            "\u001b[0;31mNameError\u001b[0m                                 Traceback (most recent call last)",
            "\u001b[0;32m<ipython-input-100-6507657c1e75>\u001b[0m in \u001b[0;36m<module>\u001b[0;34m\u001b[0m\n\u001b[1;32m      1\u001b[0m \u001b[0mtest_sentence\u001b[0m \u001b[0;34m=\u001b[0m \u001b[0;34m\"this is a sentence to demonstrate how the preprocessing function works...!\"\u001b[0m\u001b[0;34m\u001b[0m\u001b[0;34m\u001b[0m\u001b[0m\n\u001b[1;32m      2\u001b[0m \u001b[0;34m\u001b[0m\u001b[0m\n\u001b[0;32m----> 3\u001b[0;31m \u001b[0mpreprocess\u001b[0m\u001b[0;34m(\u001b[0m\u001b[0mtest_sentence\u001b[0m\u001b[0;34m)\u001b[0m\u001b[0;34m\u001b[0m\u001b[0;34m\u001b[0m\u001b[0m\n\u001b[0m",
            "\u001b[0;32m<ipython-input-99-1697cb025ade>\u001b[0m in \u001b[0;36mpreprocess\u001b[0;34m(raw_text)\u001b[0m\n\u001b[1;32m     15\u001b[0m     \u001b[0;31m# remove stopwords\u001b[0m\u001b[0;34m\u001b[0m\u001b[0;34m\u001b[0m\u001b[0;34m\u001b[0m\u001b[0m\n\u001b[1;32m     16\u001b[0m     \u001b[0;32mfor\u001b[0m \u001b[0mword\u001b[0m \u001b[0;32min\u001b[0m \u001b[0mwords\u001b[0m\u001b[0;34m:\u001b[0m\u001b[0;34m\u001b[0m\u001b[0;34m\u001b[0m\u001b[0m\n\u001b[0;32m---> 17\u001b[0;31m         \u001b[0;32mif\u001b[0m \u001b[0mword\u001b[0m \u001b[0;32mnot\u001b[0m \u001b[0;32min\u001b[0m \u001b[0mstop_words\u001b[0m\u001b[0;34m:\u001b[0m\u001b[0;34m\u001b[0m\u001b[0;34m\u001b[0m\u001b[0m\n\u001b[0m\u001b[1;32m     18\u001b[0m             \u001b[0mcleaned_words\u001b[0m\u001b[0;34m.\u001b[0m\u001b[0mappend\u001b[0m\u001b[0;34m(\u001b[0m\u001b[0mword\u001b[0m\u001b[0;34m)\u001b[0m\u001b[0;34m\u001b[0m\u001b[0;34m\u001b[0m\u001b[0m\n\u001b[1;32m     19\u001b[0m \u001b[0;34m\u001b[0m\u001b[0m\n",
            "\u001b[0;31mNameError\u001b[0m: name 'stop_words' is not defined"
          ]
        }
      ],
      "source": [
        "test_sentence = \"this is a sentence to demonstrate how the preprocessing function works...!\"\n",
        "\n",
        "preprocess(test_sentence)"
      ]
    },
    {
      "cell_type": "markdown",
      "metadata": {
        "id": "SuWwp9V27woD"
      },
      "source": [
        "you can see that \"sentence\" was stemmed to \"sentenc\", all stop words and punctuation were removed.\n",
        "Let's apply that function to the incident texts in our kansas dataframe"
      ]
    },
    {
      "cell_type": "code",
      "execution_count": null,
      "metadata": {
        "id": "x47OMSf17woD"
      },
      "outputs": [],
      "source": [
        "kansas_up_df['NARR'] = kansas_up_df['NARR'].apply(preprocess)  #Union Pacific dataframe\n",
        "kansas_rr_rest_df['NARR'] = kansas_rr_rest_df['NARR'].apply(preprocess)  #rest dataframe"
      ]
    },
    {
      "cell_type": "markdown",
      "metadata": {
        "id": "3nPoYJgLMj0Z"
      },
      "source": [
        "Reference: https://github.com/lisanka93/text_analysis_python_101/blob/master/Railroad_incidents_USA2019.ipynb"
      ]
    }
  ],
  "metadata": {
    "colab": {
      "provenance": [],
      "include_colab_link": true
    },
    "kernelspec": {
      "display_name": "Python 3.10.6 64-bit (windows store)",
      "language": "python",
      "name": "python3"
    },
    "language_info": {
      "codemirror_mode": {
        "name": "ipython",
        "version": 3
      },
      "file_extension": ".py",
      "mimetype": "text/x-python",
      "name": "python",
      "nbconvert_exporter": "python",
      "pygments_lexer": "ipython3",
      "version": "3.10.8"
    },
    "vscode": {
      "interpreter": {
        "hash": "b584c1bdf23e48579f8b763c53c4e79ed7f8954c679aa600789705d44eb33a2a"
      }
    }
  },
  "nbformat": 4,
  "nbformat_minor": 0
}